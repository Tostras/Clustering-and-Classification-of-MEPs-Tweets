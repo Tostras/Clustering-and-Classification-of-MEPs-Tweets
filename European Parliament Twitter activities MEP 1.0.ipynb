{
 "cells": [
  {
   "cell_type": "markdown",
   "metadata": {},
   "source": [
    "# European Parliament Twitter activities MEP 1.0\n",
    "\n",
    "We will investigate a dataset of tweets made by Members of the European Parliament. We will use data collected by Darko Cherepnalkoski, Andreas Karpf, Igor Mozetič, and Miha Grčar for their paper [Cohesion and Coalition Formation in the European Parliament: Roll-Call Votes and Twitter Activities](https://journals.plos.org/plosone/article?id=10.1371/journal.pone.0166586)\n",
    "\n",
    "This assignment is based on an original assignment by Ioannis Pavlopoulos (postdoc researcher) and Vasiliki Kougia (PhD candidate at AUEB).\n",
    "\n",
    "---\n",
    "\n",
    "> Ioannis (Ion) Petropoulos, 8160107 <br />\n",
    "> Department of Management Science and Technology <br />\n",
    "> Athens University of Economics and Business <br />\n",
    "> ionpetro@gmail.com"
   ]
  },
  {
   "cell_type": "code",
   "execution_count": 68,
   "metadata": {},
   "outputs": [],
   "source": [
    "import pandas as pd\n",
    "import matplotlib.pyplot as plt\n",
    "import numpy as np"
   ]
  },
  {
   "cell_type": "code",
   "execution_count": 2,
   "metadata": {},
   "outputs": [],
   "source": [
    "mep = pd.read_csv('retweets.csv')"
   ]
  },
  {
   "cell_type": "code",
   "execution_count": 3,
   "metadata": {},
   "outputs": [
    {
     "data": {
      "text/plain": [
       "(26133, 21)"
      ]
     },
     "execution_count": 3,
     "metadata": {},
     "output_type": "execute_result"
    }
   ],
   "source": [
    "mep.shape"
   ]
  },
  {
   "cell_type": "code",
   "execution_count": 4,
   "metadata": {},
   "outputs": [
    {
     "data": {
      "text/plain": [
       "Index(['origUserId', 'origUserScreenName', 'origMepId', 'origMepName',\n",
       "       'origMepGroupId', 'origMepGroupShort', 'origMepCountryId',\n",
       "       'origMepCountryShort', 'retweetUserId', 'retweetUserScreenName',\n",
       "       'retweetMepId', 'retweetMepName', 'retweetMepGroupId',\n",
       "       'retweetMepGroupShort', 'retweetMepCountryId', 'retweetMepCountryShort',\n",
       "       'origCreatedAt', 'origTweetId', 'retweetCreatedAt', 'retweetTweetId',\n",
       "       'lang'],\n",
       "      dtype='object')"
      ]
     },
     "execution_count": 4,
     "metadata": {},
     "output_type": "execute_result"
    }
   ],
   "source": [
    "mep.columns"
   ]
  },
  {
   "cell_type": "markdown",
   "metadata": {},
   "source": [
    "## Data Preparation"
   ]
  },
  {
   "cell_type": "markdown",
   "metadata": {},
   "source": [
    "We are only keeping the tweets written in English"
   ]
  },
  {
   "cell_type": "code",
   "execution_count": 6,
   "metadata": {},
   "outputs": [],
   "source": [
    "mep = mep.loc[mep.lang == 'en']"
   ]
  },
  {
   "cell_type": "markdown",
   "metadata": {},
   "source": [
    "Let's connect to twitter and grab our keys. The API keys were saved as environmental variables for security reasons "
   ]
  },
  {
   "cell_type": "code",
   "execution_count": 78,
   "metadata": {},
   "outputs": [],
   "source": [
    "import tweepy\n",
    "import os\n",
    "from dotenv import load_dotenv\n",
    "\n",
    "load_dotenv()\n",
    "\n",
    "CONSUMER_TOKEN = os.getenv('CONSUMER_TOKEN')\n",
    "CONSUMER_SECRET = os.getenv('CONSUMER_SECRET')\n",
    "auth = tweepy.OAuthHandler(CONSUMER_TOKEN, CONSUMER_SECRET)"
   ]
  },
  {
   "cell_type": "markdown",
   "metadata": {},
   "source": [
    "Let's see how the dataset looks like"
   ]
  },
  {
   "cell_type": "code",
   "execution_count": 79,
   "metadata": {},
   "outputs": [
    {
     "data": {
      "text/html": [
       "<div>\n",
       "<style scoped>\n",
       "    .dataframe tbody tr th:only-of-type {\n",
       "        vertical-align: middle;\n",
       "    }\n",
       "\n",
       "    .dataframe tbody tr th {\n",
       "        vertical-align: top;\n",
       "    }\n",
       "\n",
       "    .dataframe thead th {\n",
       "        text-align: right;\n",
       "    }\n",
       "</style>\n",
       "<table border=\"1\" class=\"dataframe\">\n",
       "  <thead>\n",
       "    <tr style=\"text-align: right;\">\n",
       "      <th></th>\n",
       "      <th>origUserId</th>\n",
       "      <th>origUserScreenName</th>\n",
       "      <th>origMepId</th>\n",
       "      <th>origMepName</th>\n",
       "      <th>origMepGroupId</th>\n",
       "      <th>origMepGroupShort</th>\n",
       "      <th>origMepCountryId</th>\n",
       "      <th>origMepCountryShort</th>\n",
       "      <th>retweetUserId</th>\n",
       "      <th>retweetUserScreenName</th>\n",
       "      <th>retweetMepId</th>\n",
       "      <th>retweetMepName</th>\n",
       "      <th>retweetMepGroupId</th>\n",
       "      <th>retweetMepGroupShort</th>\n",
       "      <th>retweetMepCountryId</th>\n",
       "      <th>retweetMepCountryShort</th>\n",
       "      <th>origCreatedAt</th>\n",
       "      <th>origTweetId</th>\n",
       "      <th>retweetCreatedAt</th>\n",
       "      <th>retweetTweetId</th>\n",
       "      <th>lang</th>\n",
       "    </tr>\n",
       "  </thead>\n",
       "  <tbody>\n",
       "    <tr>\n",
       "      <td>3</td>\n",
       "      <td>19017675</td>\n",
       "      <td>Nigel_Farage</td>\n",
       "      <td>4525</td>\n",
       "      <td>Nigel FARAGE</td>\n",
       "      <td>6</td>\n",
       "      <td>EFDD</td>\n",
       "      <td>27</td>\n",
       "      <td>GBR</td>\n",
       "      <td>121171051</td>\n",
       "      <td>MargotLJParker</td>\n",
       "      <td>124945</td>\n",
       "      <td>Margot PARKER</td>\n",
       "      <td>6</td>\n",
       "      <td>EFDD</td>\n",
       "      <td>27</td>\n",
       "      <td>GBR</td>\n",
       "      <td>Wed Jul 04 11:05:03 +0000 2012</td>\n",
       "      <td>220473289259233285</td>\n",
       "      <td>Sun Dec 07 21:46:00 +0000 2014</td>\n",
       "      <td>541710240014942209</td>\n",
       "      <td>en</td>\n",
       "    </tr>\n",
       "    <tr>\n",
       "      <td>5</td>\n",
       "      <td>17675072</td>\n",
       "      <td>MartinSchulz</td>\n",
       "      <td>1911</td>\n",
       "      <td>Martin SCHULZ</td>\n",
       "      <td>1</td>\n",
       "      <td>S&amp;D</td>\n",
       "      <td>10</td>\n",
       "      <td>DEU</td>\n",
       "      <td>1668992125</td>\n",
       "      <td>NathanGillMEP</td>\n",
       "      <td>124965</td>\n",
       "      <td>Nathan GILL</td>\n",
       "      <td>6</td>\n",
       "      <td>EFDD</td>\n",
       "      <td>27</td>\n",
       "      <td>GBR</td>\n",
       "      <td>Fri Jul 05 08:00:23 +0000 2013</td>\n",
       "      <td>353060776707235841</td>\n",
       "      <td>Thu Jun 18 08:52:51 +0000 2015</td>\n",
       "      <td>611456527409524736</td>\n",
       "      <td>en</td>\n",
       "    </tr>\n",
       "    <tr>\n",
       "      <td>11</td>\n",
       "      <td>17675072</td>\n",
       "      <td>MartinSchulz</td>\n",
       "      <td>1911</td>\n",
       "      <td>Martin SCHULZ</td>\n",
       "      <td>1</td>\n",
       "      <td>S&amp;D</td>\n",
       "      <td>10</td>\n",
       "      <td>DEU</td>\n",
       "      <td>21648649</td>\n",
       "      <td>maritaulvskog</td>\n",
       "      <td>96672</td>\n",
       "      <td>Marita ULVSKOG</td>\n",
       "      <td>1</td>\n",
       "      <td>S&amp;D</td>\n",
       "      <td>26</td>\n",
       "      <td>SWE</td>\n",
       "      <td>Sat May 17 12:47:17 +0000 2014</td>\n",
       "      <td>467647542378123264</td>\n",
       "      <td>Wed Sep 16 09:15:06 +0000 2015</td>\n",
       "      <td>644077036022165504</td>\n",
       "      <td>en</td>\n",
       "    </tr>\n",
       "    <tr>\n",
       "      <td>12</td>\n",
       "      <td>744743599</td>\n",
       "      <td>Tim_Aker</td>\n",
       "      <td>99650</td>\n",
       "      <td>Tim AKER</td>\n",
       "      <td>6</td>\n",
       "      <td>EFDD</td>\n",
       "      <td>27</td>\n",
       "      <td>GBR</td>\n",
       "      <td>121171051</td>\n",
       "      <td>MargotLJParker</td>\n",
       "      <td>124945</td>\n",
       "      <td>Margot PARKER</td>\n",
       "      <td>6</td>\n",
       "      <td>EFDD</td>\n",
       "      <td>27</td>\n",
       "      <td>GBR</td>\n",
       "      <td>Wed May 28 16:47:44 +0000 2014</td>\n",
       "      <td>471694322472353793</td>\n",
       "      <td>Thu Dec 04 22:21:10 +0000 2014</td>\n",
       "      <td>540631925145493504</td>\n",
       "      <td>en</td>\n",
       "    </tr>\n",
       "    <tr>\n",
       "      <td>13</td>\n",
       "      <td>744743599</td>\n",
       "      <td>Tim_Aker</td>\n",
       "      <td>99650</td>\n",
       "      <td>Tim AKER</td>\n",
       "      <td>6</td>\n",
       "      <td>EFDD</td>\n",
       "      <td>27</td>\n",
       "      <td>GBR</td>\n",
       "      <td>19017675</td>\n",
       "      <td>Nigel_Farage</td>\n",
       "      <td>4525</td>\n",
       "      <td>Nigel FARAGE</td>\n",
       "      <td>6</td>\n",
       "      <td>EFDD</td>\n",
       "      <td>27</td>\n",
       "      <td>GBR</td>\n",
       "      <td>Wed May 28 16:47:44 +0000 2014</td>\n",
       "      <td>471694322472353793</td>\n",
       "      <td>Sun Mar 29 18:53:32 +0000 2015</td>\n",
       "      <td>582254277122473984</td>\n",
       "      <td>en</td>\n",
       "    </tr>\n",
       "  </tbody>\n",
       "</table>\n",
       "</div>"
      ],
      "text/plain": [
       "    origUserId origUserScreenName  origMepId    origMepName  origMepGroupId  \\\n",
       "3     19017675       Nigel_Farage       4525   Nigel FARAGE               6   \n",
       "5     17675072       MartinSchulz       1911  Martin SCHULZ               1   \n",
       "11    17675072       MartinSchulz       1911  Martin SCHULZ               1   \n",
       "12   744743599           Tim_Aker      99650       Tim AKER               6   \n",
       "13   744743599           Tim_Aker      99650       Tim AKER               6   \n",
       "\n",
       "   origMepGroupShort  origMepCountryId origMepCountryShort  retweetUserId  \\\n",
       "3               EFDD                27                 GBR      121171051   \n",
       "5                S&D                10                 DEU     1668992125   \n",
       "11               S&D                10                 DEU       21648649   \n",
       "12              EFDD                27                 GBR      121171051   \n",
       "13              EFDD                27                 GBR       19017675   \n",
       "\n",
       "   retweetUserScreenName  retweetMepId  retweetMepName  retweetMepGroupId  \\\n",
       "3         MargotLJParker        124945   Margot PARKER                  6   \n",
       "5          NathanGillMEP        124965     Nathan GILL                  6   \n",
       "11         maritaulvskog         96672  Marita ULVSKOG                  1   \n",
       "12        MargotLJParker        124945   Margot PARKER                  6   \n",
       "13          Nigel_Farage          4525    Nigel FARAGE                  6   \n",
       "\n",
       "   retweetMepGroupShort  retweetMepCountryId retweetMepCountryShort  \\\n",
       "3                  EFDD                   27                    GBR   \n",
       "5                  EFDD                   27                    GBR   \n",
       "11                  S&D                   26                    SWE   \n",
       "12                 EFDD                   27                    GBR   \n",
       "13                 EFDD                   27                    GBR   \n",
       "\n",
       "                     origCreatedAt         origTweetId  \\\n",
       "3   Wed Jul 04 11:05:03 +0000 2012  220473289259233285   \n",
       "5   Fri Jul 05 08:00:23 +0000 2013  353060776707235841   \n",
       "11  Sat May 17 12:47:17 +0000 2014  467647542378123264   \n",
       "12  Wed May 28 16:47:44 +0000 2014  471694322472353793   \n",
       "13  Wed May 28 16:47:44 +0000 2014  471694322472353793   \n",
       "\n",
       "                  retweetCreatedAt      retweetTweetId lang  \n",
       "3   Sun Dec 07 21:46:00 +0000 2014  541710240014942209   en  \n",
       "5   Thu Jun 18 08:52:51 +0000 2015  611456527409524736   en  \n",
       "11  Wed Sep 16 09:15:06 +0000 2015  644077036022165504   en  \n",
       "12  Thu Dec 04 22:21:10 +0000 2014  540631925145493504   en  \n",
       "13  Sun Mar 29 18:53:32 +0000 2015  582254277122473984   en  "
      ]
     },
     "execution_count": 79,
     "metadata": {},
     "output_type": "execute_result"
    }
   ],
   "source": [
    "mep.head()"
   ]
  },
  {
   "cell_type": "markdown",
   "metadata": {},
   "source": [
    "We need all the tweetIDs in a list so we can hit the API and ask for the original tweet text. So let's do it!"
   ]
  },
  {
   "cell_type": "code",
   "execution_count": 80,
   "metadata": {},
   "outputs": [],
   "source": [
    "origTweetList = mep.origTweetId.tolist()"
   ]
  },
  {
   "cell_type": "code",
   "execution_count": 81,
   "metadata": {},
   "outputs": [
    {
     "name": "stdout",
     "output_type": "stream",
     "text": [
      "API responded!\n"
     ]
    }
   ],
   "source": [
    "try:\n",
    "    redirect_url = auth.get_authorization_url()\n",
    "    print('API responded!')\n",
    "except tweepy.TweepError:\n",
    "    print('Error! Failed to get request token.')"
   ]
  },
  {
   "cell_type": "markdown",
   "metadata": {},
   "source": [
    "We will send API requests in batches of 100s, so we will use a python script for that."
   ]
  },
  {
   "cell_type": "code",
   "execution_count": 82,
   "metadata": {},
   "outputs": [
    {
     "name": "stdout",
     "output_type": "stream",
     "text": [
      "137.40496301651\n"
     ]
    }
   ],
   "source": [
    "# based on https://stackoverflow.com/questions/44581647/retrieving-a-list-of-tweets-using-tweet-id-in-tweepy\n",
    "\n",
    "import time\n",
    "\n",
    "t0 = time.time()\n",
    "\n",
    "def lookup_tweets(tweet_IDs, api):\n",
    "    full_tweets = []\n",
    "    tweet_count = len(tweet_IDs)\n",
    "    try:\n",
    "        for i in range((tweet_count // 100) + 1):\n",
    "            # Catch the last group if it is less than 100 tweets\n",
    "            end_loc = min((i + 1) * 100, tweet_count)\n",
    "            full_tweets.extend(\n",
    "                api.statuses_lookup(id_=tweet_IDs[i * 100:end_loc])\n",
    "            )  \n",
    "        return full_tweets\n",
    "    except tweepy.TweepError:\n",
    "        print('Something went wrong, quitting...')\n",
    "\n",
    "api = tweepy.API(auth, wait_on_rate_limit=True, wait_on_rate_limit_notify=True)\n",
    "\n",
    "# do whatever it is to get por.TweetID - the list of all IDs to look up\n",
    "\n",
    "results = lookup_tweets(origTweetList, api)\n",
    "\n",
    "final_dic = {}\n",
    "\n",
    "t1 = time.time()\n",
    "total = t1-t0\n",
    "print(total)"
   ]
  },
  {
   "cell_type": "markdown",
   "metadata": {},
   "source": [
    "We will save the result on a python dictionary, where key is the tweet id and value is the text"
   ]
  },
  {
   "cell_type": "code",
   "execution_count": 83,
   "metadata": {},
   "outputs": [],
   "source": [
    "for tweet in results:\n",
    "    if tweet:\n",
    "        final_dic[tweet.id] = tweet.text"
   ]
  },
  {
   "cell_type": "markdown",
   "metadata": {},
   "source": [
    "We can create a dataframe to get a clear understanding of what we extracted"
   ]
  },
  {
   "cell_type": "code",
   "execution_count": 85,
   "metadata": {},
   "outputs": [
    {
     "data": {
      "text/html": [
       "<div>\n",
       "<style scoped>\n",
       "    .dataframe tbody tr th:only-of-type {\n",
       "        vertical-align: middle;\n",
       "    }\n",
       "\n",
       "    .dataframe tbody tr th {\n",
       "        vertical-align: top;\n",
       "    }\n",
       "\n",
       "    .dataframe thead th {\n",
       "        text-align: right;\n",
       "    }\n",
       "</style>\n",
       "<table border=\"1\" class=\"dataframe\">\n",
       "  <thead>\n",
       "    <tr style=\"text-align: right;\">\n",
       "      <th></th>\n",
       "      <th>tweetText</th>\n",
       "    </tr>\n",
       "  </thead>\n",
       "  <tbody>\n",
       "    <tr>\n",
       "      <td>519050739642286080</td>\n",
       "      <td>Lord Hill's written answers to EP are now on m...</td>\n",
       "    </tr>\n",
       "    <tr>\n",
       "      <td>519139901359783936</td>\n",
       "      <td>Our @SebDance asks @ABratusek about global cli...</td>\n",
       "    </tr>\n",
       "    <tr>\n",
       "      <td>518024241024073728</td>\n",
       "      <td>I write for @LabourList Tory threat to Court o...</td>\n",
       "    </tr>\n",
       "    <tr>\n",
       "      <td>519109106272317440</td>\n",
       "      <td>“@Ashleyfoxmep: and named her party \"the Allia...</td>\n",
       "    </tr>\n",
       "    <tr>\n",
       "      <td>518721908951769088</td>\n",
       "      <td>Good luck to @TheProgressives in Bulgaria toda...</td>\n",
       "    </tr>\n",
       "  </tbody>\n",
       "</table>\n",
       "</div>"
      ],
      "text/plain": [
       "                                                            tweetText\n",
       "519050739642286080  Lord Hill's written answers to EP are now on m...\n",
       "519139901359783936  Our @SebDance asks @ABratusek about global cli...\n",
       "518024241024073728  I write for @LabourList Tory threat to Court o...\n",
       "519109106272317440  “@Ashleyfoxmep: and named her party \"the Allia...\n",
       "518721908951769088  Good luck to @TheProgressives in Bulgaria toda..."
      ]
     },
     "execution_count": 85,
     "metadata": {},
     "output_type": "execute_result"
    }
   ],
   "source": [
    "tweet_text = pd.DataFrame.from_dict(final_dic, orient='index', columns=['tweetText'])\n",
    "tweet_text.head()"
   ]
  },
  {
   "cell_type": "markdown",
   "metadata": {},
   "source": [
    "We can merge the tweet texts with the original dataframe"
   ]
  },
  {
   "cell_type": "code",
   "execution_count": 18,
   "metadata": {},
   "outputs": [],
   "source": [
    "mepExt = pd.merge(mep, tweet_text, left_on='origTweetId', right_index=True, how='inner')"
   ]
  },
  {
   "cell_type": "markdown",
   "metadata": {},
   "source": [
    "* We can observe that there are some Political Groups that have tweeted less than 50 times, which is not enough information for those\n",
    "* We are getting rid of them"
   ]
  },
  {
   "cell_type": "code",
   "execution_count": 19,
   "metadata": {},
   "outputs": [],
   "source": [
    "group = mepExt.groupby('origMepGroupShort').count()\n",
    "groupFiltered = group.loc[group.origUserId > 50]\n",
    "mepExt = mepExt.loc[mepExt.origMepGroupShort.isin(list(groupFiltered.index))]"
   ]
  },
  {
   "cell_type": "markdown",
   "metadata": {},
   "source": [
    "The final result is the following"
   ]
  },
  {
   "cell_type": "code",
   "execution_count": 87,
   "metadata": {
    "scrolled": false
   },
   "outputs": [
    {
     "data": {
      "text/html": [
       "<div>\n",
       "<style scoped>\n",
       "    .dataframe tbody tr th:only-of-type {\n",
       "        vertical-align: middle;\n",
       "    }\n",
       "\n",
       "    .dataframe tbody tr th {\n",
       "        vertical-align: top;\n",
       "    }\n",
       "\n",
       "    .dataframe thead th {\n",
       "        text-align: right;\n",
       "    }\n",
       "</style>\n",
       "<table border=\"1\" class=\"dataframe\">\n",
       "  <thead>\n",
       "    <tr style=\"text-align: right;\">\n",
       "      <th></th>\n",
       "      <th>origUserId</th>\n",
       "      <th>origUserScreenName</th>\n",
       "      <th>origMepId</th>\n",
       "      <th>origMepName</th>\n",
       "      <th>origMepGroupId</th>\n",
       "      <th>origMepGroupShort</th>\n",
       "      <th>origMepCountryId</th>\n",
       "      <th>origMepCountryShort</th>\n",
       "      <th>retweetUserId</th>\n",
       "      <th>retweetUserScreenName</th>\n",
       "      <th>retweetMepId</th>\n",
       "      <th>retweetMepName</th>\n",
       "      <th>retweetMepGroupId</th>\n",
       "      <th>retweetMepGroupShort</th>\n",
       "      <th>retweetMepCountryId</th>\n",
       "      <th>retweetMepCountryShort</th>\n",
       "      <th>origCreatedAt</th>\n",
       "      <th>origTweetId</th>\n",
       "      <th>retweetCreatedAt</th>\n",
       "      <th>retweetTweetId</th>\n",
       "      <th>lang</th>\n",
       "      <th>tweetText</th>\n",
       "    </tr>\n",
       "  </thead>\n",
       "  <tbody>\n",
       "    <tr>\n",
       "      <td>3</td>\n",
       "      <td>19017675</td>\n",
       "      <td>Nigel_Farage</td>\n",
       "      <td>4525</td>\n",
       "      <td>Nigel FARAGE</td>\n",
       "      <td>6</td>\n",
       "      <td>EFDD</td>\n",
       "      <td>27</td>\n",
       "      <td>GBR</td>\n",
       "      <td>121171051</td>\n",
       "      <td>MargotLJParker</td>\n",
       "      <td>124945</td>\n",
       "      <td>Margot PARKER</td>\n",
       "      <td>6</td>\n",
       "      <td>EFDD</td>\n",
       "      <td>27</td>\n",
       "      <td>GBR</td>\n",
       "      <td>Wed Jul 04 11:05:03 +0000 2012</td>\n",
       "      <td>220473289259233285</td>\n",
       "      <td>Sun Dec 07 21:46:00 +0000 2014</td>\n",
       "      <td>541710240014942209</td>\n",
       "      <td>en</td>\n",
       "      <td>Euro Parliament votes overwhelmingly to reject...</td>\n",
       "    </tr>\n",
       "    <tr>\n",
       "      <td>5</td>\n",
       "      <td>17675072</td>\n",
       "      <td>MartinSchulz</td>\n",
       "      <td>1911</td>\n",
       "      <td>Martin SCHULZ</td>\n",
       "      <td>1</td>\n",
       "      <td>S&amp;D</td>\n",
       "      <td>10</td>\n",
       "      <td>DEU</td>\n",
       "      <td>1668992125</td>\n",
       "      <td>NathanGillMEP</td>\n",
       "      <td>124965</td>\n",
       "      <td>Nathan GILL</td>\n",
       "      <td>6</td>\n",
       "      <td>EFDD</td>\n",
       "      <td>27</td>\n",
       "      <td>GBR</td>\n",
       "      <td>Fri Jul 05 08:00:23 +0000 2013</td>\n",
       "      <td>353060776707235841</td>\n",
       "      <td>Thu Jun 18 08:52:51 +0000 2015</td>\n",
       "      <td>611456527409524736</td>\n",
       "      <td>en</td>\n",
       "      <td>US have one currency, one Central Bank and one...</td>\n",
       "    </tr>\n",
       "    <tr>\n",
       "      <td>11</td>\n",
       "      <td>17675072</td>\n",
       "      <td>MartinSchulz</td>\n",
       "      <td>1911</td>\n",
       "      <td>Martin SCHULZ</td>\n",
       "      <td>1</td>\n",
       "      <td>S&amp;D</td>\n",
       "      <td>10</td>\n",
       "      <td>DEU</td>\n",
       "      <td>21648649</td>\n",
       "      <td>maritaulvskog</td>\n",
       "      <td>96672</td>\n",
       "      <td>Marita ULVSKOG</td>\n",
       "      <td>1</td>\n",
       "      <td>S&amp;D</td>\n",
       "      <td>26</td>\n",
       "      <td>SWE</td>\n",
       "      <td>Sat May 17 12:47:17 +0000 2014</td>\n",
       "      <td>467647542378123264</td>\n",
       "      <td>Wed Sep 16 09:15:06 +0000 2015</td>\n",
       "      <td>644077036022165504</td>\n",
       "      <td>en</td>\n",
       "      <td>More jobs for young people is my top priority ...</td>\n",
       "    </tr>\n",
       "    <tr>\n",
       "      <td>12</td>\n",
       "      <td>744743599</td>\n",
       "      <td>Tim_Aker</td>\n",
       "      <td>99650</td>\n",
       "      <td>Tim AKER</td>\n",
       "      <td>6</td>\n",
       "      <td>EFDD</td>\n",
       "      <td>27</td>\n",
       "      <td>GBR</td>\n",
       "      <td>121171051</td>\n",
       "      <td>MargotLJParker</td>\n",
       "      <td>124945</td>\n",
       "      <td>Margot PARKER</td>\n",
       "      <td>6</td>\n",
       "      <td>EFDD</td>\n",
       "      <td>27</td>\n",
       "      <td>GBR</td>\n",
       "      <td>Wed May 28 16:47:44 +0000 2014</td>\n",
       "      <td>471694322472353793</td>\n",
       "      <td>Thu Dec 04 22:21:10 +0000 2014</td>\n",
       "      <td>540631925145493504</td>\n",
       "      <td>en</td>\n",
       "      <td>Vote #Labour, get Tory. Vote Tory, get Labour....</td>\n",
       "    </tr>\n",
       "    <tr>\n",
       "      <td>13</td>\n",
       "      <td>744743599</td>\n",
       "      <td>Tim_Aker</td>\n",
       "      <td>99650</td>\n",
       "      <td>Tim AKER</td>\n",
       "      <td>6</td>\n",
       "      <td>EFDD</td>\n",
       "      <td>27</td>\n",
       "      <td>GBR</td>\n",
       "      <td>19017675</td>\n",
       "      <td>Nigel_Farage</td>\n",
       "      <td>4525</td>\n",
       "      <td>Nigel FARAGE</td>\n",
       "      <td>6</td>\n",
       "      <td>EFDD</td>\n",
       "      <td>27</td>\n",
       "      <td>GBR</td>\n",
       "      <td>Wed May 28 16:47:44 +0000 2014</td>\n",
       "      <td>471694322472353793</td>\n",
       "      <td>Sun Mar 29 18:53:32 +0000 2015</td>\n",
       "      <td>582254277122473984</td>\n",
       "      <td>en</td>\n",
       "      <td>Vote #Labour, get Tory. Vote Tory, get Labour....</td>\n",
       "    </tr>\n",
       "  </tbody>\n",
       "</table>\n",
       "</div>"
      ],
      "text/plain": [
       "    origUserId origUserScreenName  origMepId    origMepName  origMepGroupId  \\\n",
       "3     19017675       Nigel_Farage       4525   Nigel FARAGE               6   \n",
       "5     17675072       MartinSchulz       1911  Martin SCHULZ               1   \n",
       "11    17675072       MartinSchulz       1911  Martin SCHULZ               1   \n",
       "12   744743599           Tim_Aker      99650       Tim AKER               6   \n",
       "13   744743599           Tim_Aker      99650       Tim AKER               6   \n",
       "\n",
       "   origMepGroupShort  origMepCountryId origMepCountryShort  retweetUserId  \\\n",
       "3               EFDD                27                 GBR      121171051   \n",
       "5                S&D                10                 DEU     1668992125   \n",
       "11               S&D                10                 DEU       21648649   \n",
       "12              EFDD                27                 GBR      121171051   \n",
       "13              EFDD                27                 GBR       19017675   \n",
       "\n",
       "   retweetUserScreenName  retweetMepId  retweetMepName  retweetMepGroupId  \\\n",
       "3         MargotLJParker        124945   Margot PARKER                  6   \n",
       "5          NathanGillMEP        124965     Nathan GILL                  6   \n",
       "11         maritaulvskog         96672  Marita ULVSKOG                  1   \n",
       "12        MargotLJParker        124945   Margot PARKER                  6   \n",
       "13          Nigel_Farage          4525    Nigel FARAGE                  6   \n",
       "\n",
       "   retweetMepGroupShort  retweetMepCountryId retweetMepCountryShort  \\\n",
       "3                  EFDD                   27                    GBR   \n",
       "5                  EFDD                   27                    GBR   \n",
       "11                  S&D                   26                    SWE   \n",
       "12                 EFDD                   27                    GBR   \n",
       "13                 EFDD                   27                    GBR   \n",
       "\n",
       "                     origCreatedAt         origTweetId  \\\n",
       "3   Wed Jul 04 11:05:03 +0000 2012  220473289259233285   \n",
       "5   Fri Jul 05 08:00:23 +0000 2013  353060776707235841   \n",
       "11  Sat May 17 12:47:17 +0000 2014  467647542378123264   \n",
       "12  Wed May 28 16:47:44 +0000 2014  471694322472353793   \n",
       "13  Wed May 28 16:47:44 +0000 2014  471694322472353793   \n",
       "\n",
       "                  retweetCreatedAt      retweetTweetId lang  \\\n",
       "3   Sun Dec 07 21:46:00 +0000 2014  541710240014942209   en   \n",
       "5   Thu Jun 18 08:52:51 +0000 2015  611456527409524736   en   \n",
       "11  Wed Sep 16 09:15:06 +0000 2015  644077036022165504   en   \n",
       "12  Thu Dec 04 22:21:10 +0000 2014  540631925145493504   en   \n",
       "13  Sun Mar 29 18:53:32 +0000 2015  582254277122473984   en   \n",
       "\n",
       "                                            tweetText  \n",
       "3   Euro Parliament votes overwhelmingly to reject...  \n",
       "5   US have one currency, one Central Bank and one...  \n",
       "11  More jobs for young people is my top priority ...  \n",
       "12  Vote #Labour, get Tory. Vote Tory, get Labour....  \n",
       "13  Vote #Labour, get Tory. Vote Tory, get Labour....  "
      ]
     },
     "execution_count": 87,
     "metadata": {},
     "output_type": "execute_result"
    }
   ],
   "source": [
    "mepExt.head()"
   ]
  },
  {
   "cell_type": "markdown",
   "metadata": {},
   "source": [
    "Since the data collection using the Twitter API needs approx 300 secs, we are going to extract the cleaned dataset, so we can save some time."
   ]
  },
  {
   "cell_type": "code",
   "execution_count": 89,
   "metadata": {},
   "outputs": [],
   "source": [
    "export = mepExt.to_csv('fullRetweets.csv', index = None, header=True)"
   ]
  },
  {
   "cell_type": "markdown",
   "metadata": {},
   "source": [
    "## Clustering"
   ]
  },
  {
   "cell_type": "markdown",
   "metadata": {},
   "source": [
    "* We are going to use k-means to cluster the tweets based on their text\n",
    "* Let's first import all the libraries we are going to use"
   ]
  },
  {
   "cell_type": "code",
   "execution_count": 90,
   "metadata": {},
   "outputs": [],
   "source": [
    "import pandas as pd\n",
    "import matplotlib.pyplot as plt\n",
    "import numpy as np\n",
    "pd.set_option(\"display.max_columns\", 30)\n",
    "%matplotlib inline\n",
    "\n",
    "fullRetweets = pd.read_csv('FullRetweets.csv')"
   ]
  },
  {
   "cell_type": "code",
   "execution_count": 91,
   "metadata": {},
   "outputs": [],
   "source": [
    "import wordcloud\n",
    "import matplotlib\n",
    "import PIL"
   ]
  },
  {
   "cell_type": "code",
   "execution_count": 94,
   "metadata": {},
   "outputs": [
    {
     "name": "stderr",
     "output_type": "stream",
     "text": [
      "[nltk_data] Downloading package stopwords to\n",
      "[nltk_data]     C:\\Users\\Ion\\AppData\\Roaming\\nltk_data...\n",
      "[nltk_data]   Package stopwords is already up-to-date!\n"
     ]
    },
    {
     "data": {
      "text/plain": [
       "True"
      ]
     },
     "execution_count": 94,
     "metadata": {},
     "output_type": "execute_result"
    }
   ],
   "source": [
    "from sklearn.feature_extraction.text import TfidfVectorizer\n",
    "from sklearn.feature_extraction.text import CountVectorizer\n",
    "from sklearn.cluster import KMeans\n",
    "from sklearn import metrics\n",
    "from sklearn.feature_extraction import text \n",
    "\n",
    "\n",
    "# another set of stopwords\n",
    "\n",
    "from nltk.corpus import stopwords\n",
    "import nltk\n",
    "import sklearn as sk\n",
    "nltk.download('stopwords')"
   ]
  },
  {
   "cell_type": "markdown",
   "metadata": {},
   "source": [
    "Since our dataset has retweets, that means there are duplicates, which we have to drop"
   ]
  },
  {
   "cell_type": "code",
   "execution_count": 95,
   "metadata": {},
   "outputs": [],
   "source": [
    "clean_text = fullRetweets.tweetText.drop_duplicates()"
   ]
  },
  {
   "cell_type": "markdown",
   "metadata": {},
   "source": [
    "We can create our **corpus**, a list of documents (tweets)"
   ]
  },
  {
   "cell_type": "code",
   "execution_count": 116,
   "metadata": {},
   "outputs": [],
   "source": [
    "corpus = list(clean_text)"
   ]
  },
  {
   "cell_type": "code",
   "execution_count": 144,
   "metadata": {},
   "outputs": [],
   "source": [
    "# We have to add some stop words that are relevant to the topic\n",
    "my_additional_stop_words = ['http', 'https', 'amp', 'timmermans', 'timkirkhopemep', 'mep', 'meps',\n",
    "                            'etuc_ces', 'today', 'tonight', 'tomorrow', 'kurdish', 'europe', 'eu', 'ep', 'european', 'parliament']\n",
    "\n",
    "stop_words = text.ENGLISH_STOP_WORDS.union(my_additional_stop_words)"
   ]
  },
  {
   "cell_type": "markdown",
   "metadata": {},
   "source": [
    "We want to create a vectorizer, since kmeans can not operate with text."
   ]
  },
  {
   "cell_type": "code",
   "execution_count": 145,
   "metadata": {},
   "outputs": [],
   "source": [
    "my_stop_words = set(stopwords.words('english')) \n",
    "vectorizer = CountVectorizer(lowercase=True, min_df=10, max_df=0.6, stop_words = stop_words)\n",
    "X = vectorizer.fit_transform(corpus)\n",
    "\n",
    "# The TfidfVectorizer is not giving good results, so it's deactivated\n",
    "# vectorizer2 = TfidfVectorizer(lowercase=True, min_df=10, max_df=0.5, stop_words='english')\n",
    "# X2 = vectorizer2.fit_transform(corpus)"
   ]
  },
  {
   "cell_type": "markdown",
   "metadata": {},
   "source": [
    "* Now that we have created the Vectorizer, we need to find the number of clusters. For that, we will use **Elbow Method** and **Silhouette Visualizer** in order to conclude\n",
    "* We start with the **Elbow Method** from **Yellow Brick** library"
   ]
  },
  {
   "cell_type": "code",
   "execution_count": 135,
   "metadata": {},
   "outputs": [
    {
     "data": {
      "image/png": "[encoded data removed]",
      "text/plain": [
       "<Figure size 432x288 with 2 Axes>"
      ]
     },
     "metadata": {},
     "output_type": "display_data"
    },
    {
     "data": {
      "text/plain": [
       "<matplotlib.axes._subplots.AxesSubplot at 0x22d8b81e548>"
      ]
     },
     "execution_count": 135,
     "metadata": {},
     "output_type": "execute_result"
    }
   ],
   "source": [
    "from yellowbrick.cluster import KElbowVisualizer\n",
    "\n",
    "kmeans = KMeans(random_state=0)\n",
    "visualizer = KElbowVisualizer(kmeans, k=(1,9))\n",
    "\n",
    "visualizer.fit(X)\n",
    "visualizer.show()"
   ]
  },
  {
   "cell_type": "markdown",
   "metadata": {},
   "source": [
    "* The elbow method gives us k = 3 as the optimal number of clusters.\n",
    "* Let's also try the **Silhouette Visualizer**"
   ]
  },
  {
   "cell_type": "code",
   "execution_count": 136,
   "metadata": {},
   "outputs": [
    {
     "data": {
      "image/png": "[encoded data removed]",
      "text/plain": [
       "<Figure size 1152x1152 with 8 Axes>"
      ]
     },
     "metadata": {
      "needs_background": "light"
     },
     "output_type": "display_data"
    }
   ],
   "source": [
    "from yellowbrick.cluster import SilhouetteVisualizer\n",
    "\n",
    "plt.figure(figsize=(4 * 4,  2 * 8))\n",
    "\n",
    "scores = {}\n",
    "for n_clusters in range(2, 10):\n",
    "    plt.subplot(4, 2, n_clusters - 1)\n",
    "    kmeans = KMeans(n_clusters, random_state=42)\n",
    "    visualizer = SilhouetteVisualizer(kmeans, colors='yellowbrick')\n",
    "    visualizer.fit(X)\n",
    "    scores[n_clusters] = visualizer.silhouette_score_\n",
    "    plt.title(f'clusters: {n_clusters} score: {visualizer.silhouette_score_}')"
   ]
  },
  {
   "cell_type": "markdown",
   "metadata": {},
   "source": [
    "We can sort the results to find the number of clusters with the highest **silhouette score**"
   ]
  },
  {
   "cell_type": "code",
   "execution_count": 137,
   "metadata": {},
   "outputs": [
    {
     "data": {
      "text/plain": [
       "[(3, 0.041154235141152753),\n",
       " (2, 0.03997526080559236),\n",
       " (9, 0.03967078908104926),\n",
       " (5, 0.028731093461593096),\n",
       " (4, 0.025191218059937202),\n",
       " (7, 0.02280377926030644),\n",
       " (6, 0.015069399954076761),\n",
       " (8, 0.006920364711871472)]"
      ]
     },
     "execution_count": 137,
     "metadata": {},
     "output_type": "execute_result"
    }
   ],
   "source": [
    "sorted(scores.items(), key=lambda kv: kv[1], reverse=True)"
   ]
  },
  {
   "cell_type": "markdown",
   "metadata": {},
   "source": [
    "Since we are getting different results we will try both as pick the one with the better results"
   ]
  },
  {
   "cell_type": "code",
   "execution_count": 146,
   "metadata": {},
   "outputs": [
    {
     "data": {
      "text/plain": [
       "0.04222746842761195"
      ]
     },
     "execution_count": 146,
     "metadata": {},
     "output_type": "execute_result"
    }
   ],
   "source": [
    "#According to Silhouette\n",
    "kmeans = KMeans(n_clusters=5, random_state=32).fit(X)\n",
    "\n",
    "#we want to predict the labels for each word\n",
    "cluster_labels = kmeans.fit_predict(X)\n",
    "\n",
    "metrics.silhouette_score(X, labels=cluster_labels)"
   ]
  },
  {
   "cell_type": "markdown",
   "metadata": {},
   "source": [
    "The silhouette score is quite low but this is not unreasonable when we have these many dimensions"
   ]
  },
  {
   "cell_type": "code",
   "execution_count": 147,
   "metadata": {},
   "outputs": [
    {
     "name": "stdout",
     "output_type": "stream",
     "text": [
      "Top terms per cluster:\n",
      "Cluster 0: eppgroup uk people ttip great good vote need meeting support debate just labour europarl_en greece\n",
      "Cluster 1: ukip vote labour party people nhs uk policy immigration just debate lab tories great election\n",
      "Cluster 2: british jobs workers campaign says uk labour prosperity scotland ukip migrants black inside leave youth\n",
      "Cluster 3: new eppgroup year need good people rules great digital vote greece happy welcome eu_commission europarl_en\n",
      "Cluster 4: gt russia ukraine uk new 2014 country state greece countries refugees yes says foreign obama\n"
     ]
    }
   ],
   "source": [
    "print(\"Top terms per cluster:\")\n",
    "order_centroids = kmeans.cluster_centers_.argsort()[:, ::-1]\n",
    "terms = vectorizer.get_feature_names()\n",
    "for i in range(5):\n",
    "    top_ten_words = [terms[ind] for ind in order_centroids[i, :15]]\n",
    "    print(\"Cluster {}: {}\".format(i, ' '.join(top_ten_words)))"
   ]
  },
  {
   "cell_type": "markdown",
   "metadata": {},
   "source": [
    "We can clearly see that the first cluster (cluster 0) is reffering to the political situation in **Greece**. This makes sense \n"
   ]
  },
  {
   "cell_type": "code",
   "execution_count": 127,
   "metadata": {},
   "outputs": [
    {
     "name": "stdout",
     "output_type": "stream",
     "text": [
      "[1]\n"
     ]
    }
   ],
   "source": [
    "Y = vectorizer.transform([\"brexit is coming\"])\n",
    "prediction = kmeans.predict(Y)\n",
    "print(prediction)"
   ]
  },
  {
   "cell_type": "markdown",
   "metadata": {},
   "source": [
    "Using the **InterclusterDistance** we visualize the results to see some clear clusters"
   ]
  },
  {
   "cell_type": "code",
   "execution_count": 129,
   "metadata": {},
   "outputs": [
    {
     "data": {
      "image/png": "[encoded data removed]",
      "text/plain": [
       "<Figure size 432x288 with 2 Axes>"
      ]
     },
     "metadata": {
      "needs_background": "light"
     },
     "output_type": "display_data"
    },
    {
     "data": {
      "text/plain": [
       "<matplotlib.axes._subplots.AxesSubplot at 0x22d8dce8cc8>"
      ]
     },
     "execution_count": 129,
     "metadata": {},
     "output_type": "execute_result"
    }
   ],
   "source": [
    "from yellowbrick.cluster import InterclusterDistance\n",
    "model = KMeans(5)\n",
    "visualizer = InterclusterDistance(model)\n",
    "\n",
    "visualizer.fit(X)        # Fit the data to the visualizer\n",
    "visualizer.show()        # Finalize and render the figure"
   ]
  },
  {
   "cell_type": "markdown",
   "metadata": {},
   "source": [
    "## Classification"
   ]
  },
  {
   "cell_type": "code",
   "execution_count": 39,
   "metadata": {},
   "outputs": [],
   "source": [
    "from sklearn.model_selection import train_test_split\n",
    "from sklearn.feature_extraction.text import CountVectorizer, TfidfVectorizer\n",
    "from sklearn.metrics import accuracy_score, confusion_matrix\n",
    "import matplotlib.pyplot as plt\n",
    "from sklearn.dummy import DummyClassifier\n",
    "import sklearn as sk"
   ]
  },
  {
   "cell_type": "code",
   "execution_count": 40,
   "metadata": {},
   "outputs": [],
   "source": [
    "import pandas as pd\n",
    "import matplotlib.pyplot as plt\n",
    "import numpy as np\n",
    "pd.set_option(\"display.max_columns\", 30)\n",
    "%matplotlib inline\n",
    "\n",
    "fullRetweets = pd.read_csv('FullRetweets.csv')"
   ]
  },
  {
   "cell_type": "code",
   "execution_count": 41,
   "metadata": {},
   "outputs": [
    {
     "data": {
      "text/html": [
       "<div>\n",
       "<style scoped>\n",
       "    .dataframe tbody tr th:only-of-type {\n",
       "        vertical-align: middle;\n",
       "    }\n",
       "\n",
       "    .dataframe tbody tr th {\n",
       "        vertical-align: top;\n",
       "    }\n",
       "\n",
       "    .dataframe thead th {\n",
       "        text-align: right;\n",
       "    }\n",
       "</style>\n",
       "<table border=\"1\" class=\"dataframe\">\n",
       "  <thead>\n",
       "    <tr style=\"text-align: right;\">\n",
       "      <th></th>\n",
       "      <th>origUserId</th>\n",
       "      <th>origUserScreenName</th>\n",
       "      <th>origMepId</th>\n",
       "      <th>origMepName</th>\n",
       "      <th>origMepGroupId</th>\n",
       "      <th>origMepGroupShort</th>\n",
       "      <th>origMepCountryId</th>\n",
       "      <th>origMepCountryShort</th>\n",
       "      <th>retweetUserId</th>\n",
       "      <th>retweetUserScreenName</th>\n",
       "      <th>retweetMepId</th>\n",
       "      <th>retweetMepName</th>\n",
       "      <th>retweetMepGroupId</th>\n",
       "      <th>retweetMepGroupShort</th>\n",
       "      <th>retweetMepCountryId</th>\n",
       "      <th>retweetMepCountryShort</th>\n",
       "      <th>origCreatedAt</th>\n",
       "      <th>origTweetId</th>\n",
       "      <th>retweetCreatedAt</th>\n",
       "      <th>retweetTweetId</th>\n",
       "      <th>lang</th>\n",
       "      <th>tweetText</th>\n",
       "    </tr>\n",
       "  </thead>\n",
       "  <tbody>\n",
       "    <tr>\n",
       "      <td>0</td>\n",
       "      <td>19017675</td>\n",
       "      <td>Nigel_Farage</td>\n",
       "      <td>4525</td>\n",
       "      <td>Nigel FARAGE</td>\n",
       "      <td>6</td>\n",
       "      <td>EFDD</td>\n",
       "      <td>27</td>\n",
       "      <td>GBR</td>\n",
       "      <td>121171051</td>\n",
       "      <td>MargotLJParker</td>\n",
       "      <td>124945</td>\n",
       "      <td>Margot PARKER</td>\n",
       "      <td>6</td>\n",
       "      <td>EFDD</td>\n",
       "      <td>27</td>\n",
       "      <td>GBR</td>\n",
       "      <td>Wed Jul 04 11:05:03 +0000 2012</td>\n",
       "      <td>220473289259233285</td>\n",
       "      <td>Sun Dec 07 21:46:00 +0000 2014</td>\n",
       "      <td>541710240014942209</td>\n",
       "      <td>en</td>\n",
       "      <td>Euro Parliament votes overwhelmingly to reject...</td>\n",
       "    </tr>\n",
       "    <tr>\n",
       "      <td>1</td>\n",
       "      <td>17675072</td>\n",
       "      <td>MartinSchulz</td>\n",
       "      <td>1911</td>\n",
       "      <td>Martin SCHULZ</td>\n",
       "      <td>1</td>\n",
       "      <td>S&amp;D</td>\n",
       "      <td>10</td>\n",
       "      <td>DEU</td>\n",
       "      <td>1668992125</td>\n",
       "      <td>NathanGillMEP</td>\n",
       "      <td>124965</td>\n",
       "      <td>Nathan GILL</td>\n",
       "      <td>6</td>\n",
       "      <td>EFDD</td>\n",
       "      <td>27</td>\n",
       "      <td>GBR</td>\n",
       "      <td>Fri Jul 05 08:00:23 +0000 2013</td>\n",
       "      <td>353060776707235841</td>\n",
       "      <td>Thu Jun 18 08:52:51 +0000 2015</td>\n",
       "      <td>611456527409524736</td>\n",
       "      <td>en</td>\n",
       "      <td>US have one currency, one Central Bank and one...</td>\n",
       "    </tr>\n",
       "    <tr>\n",
       "      <td>2</td>\n",
       "      <td>17675072</td>\n",
       "      <td>MartinSchulz</td>\n",
       "      <td>1911</td>\n",
       "      <td>Martin SCHULZ</td>\n",
       "      <td>1</td>\n",
       "      <td>S&amp;D</td>\n",
       "      <td>10</td>\n",
       "      <td>DEU</td>\n",
       "      <td>21648649</td>\n",
       "      <td>maritaulvskog</td>\n",
       "      <td>96672</td>\n",
       "      <td>Marita ULVSKOG</td>\n",
       "      <td>1</td>\n",
       "      <td>S&amp;D</td>\n",
       "      <td>26</td>\n",
       "      <td>SWE</td>\n",
       "      <td>Sat May 17 12:47:17 +0000 2014</td>\n",
       "      <td>467647542378123264</td>\n",
       "      <td>Wed Sep 16 09:15:06 +0000 2015</td>\n",
       "      <td>644077036022165504</td>\n",
       "      <td>en</td>\n",
       "      <td>More jobs for young people is my top priority ...</td>\n",
       "    </tr>\n",
       "    <tr>\n",
       "      <td>3</td>\n",
       "      <td>744743599</td>\n",
       "      <td>Tim_Aker</td>\n",
       "      <td>99650</td>\n",
       "      <td>Tim AKER</td>\n",
       "      <td>6</td>\n",
       "      <td>EFDD</td>\n",
       "      <td>27</td>\n",
       "      <td>GBR</td>\n",
       "      <td>121171051</td>\n",
       "      <td>MargotLJParker</td>\n",
       "      <td>124945</td>\n",
       "      <td>Margot PARKER</td>\n",
       "      <td>6</td>\n",
       "      <td>EFDD</td>\n",
       "      <td>27</td>\n",
       "      <td>GBR</td>\n",
       "      <td>Wed May 28 16:47:44 +0000 2014</td>\n",
       "      <td>471694322472353793</td>\n",
       "      <td>Thu Dec 04 22:21:10 +0000 2014</td>\n",
       "      <td>540631925145493504</td>\n",
       "      <td>en</td>\n",
       "      <td>Vote #Labour, get Tory. Vote Tory, get Labour....</td>\n",
       "    </tr>\n",
       "    <tr>\n",
       "      <td>4</td>\n",
       "      <td>744743599</td>\n",
       "      <td>Tim_Aker</td>\n",
       "      <td>99650</td>\n",
       "      <td>Tim AKER</td>\n",
       "      <td>6</td>\n",
       "      <td>EFDD</td>\n",
       "      <td>27</td>\n",
       "      <td>GBR</td>\n",
       "      <td>19017675</td>\n",
       "      <td>Nigel_Farage</td>\n",
       "      <td>4525</td>\n",
       "      <td>Nigel FARAGE</td>\n",
       "      <td>6</td>\n",
       "      <td>EFDD</td>\n",
       "      <td>27</td>\n",
       "      <td>GBR</td>\n",
       "      <td>Wed May 28 16:47:44 +0000 2014</td>\n",
       "      <td>471694322472353793</td>\n",
       "      <td>Sun Mar 29 18:53:32 +0000 2015</td>\n",
       "      <td>582254277122473984</td>\n",
       "      <td>en</td>\n",
       "      <td>Vote #Labour, get Tory. Vote Tory, get Labour....</td>\n",
       "    </tr>\n",
       "    <tr>\n",
       "      <td>...</td>\n",
       "      <td>...</td>\n",
       "      <td>...</td>\n",
       "      <td>...</td>\n",
       "      <td>...</td>\n",
       "      <td>...</td>\n",
       "      <td>...</td>\n",
       "      <td>...</td>\n",
       "      <td>...</td>\n",
       "      <td>...</td>\n",
       "      <td>...</td>\n",
       "      <td>...</td>\n",
       "      <td>...</td>\n",
       "      <td>...</td>\n",
       "      <td>...</td>\n",
       "      <td>...</td>\n",
       "      <td>...</td>\n",
       "      <td>...</td>\n",
       "      <td>...</td>\n",
       "      <td>...</td>\n",
       "      <td>...</td>\n",
       "      <td>...</td>\n",
       "      <td>...</td>\n",
       "    </tr>\n",
       "    <tr>\n",
       "      <td>12903</td>\n",
       "      <td>1485429175</td>\n",
       "      <td>JSaryuszWolski</td>\n",
       "      <td>28297</td>\n",
       "      <td>Jacek SARYUSZ-WOLSKI</td>\n",
       "      <td>4</td>\n",
       "      <td>EPP</td>\n",
       "      <td>20</td>\n",
       "      <td>POL</td>\n",
       "      <td>539156512</td>\n",
       "      <td>ZdzKrasnodebski</td>\n",
       "      <td>124891</td>\n",
       "      <td>Zdzisław KRASNODĘBSKI</td>\n",
       "      <td>5</td>\n",
       "      <td>ECR</td>\n",
       "      <td>20</td>\n",
       "      <td>POL</td>\n",
       "      <td>Sun Jan 24 13:17:25 +0000 2016</td>\n",
       "      <td>691248438504210432</td>\n",
       "      <td>Mon Jan 25 08:21:14 +0000 2016</td>\n",
       "      <td>691536290198745088</td>\n",
       "      <td>en</td>\n",
       "      <td>Drastic drop in positive EU perception in Pola...</td>\n",
       "    </tr>\n",
       "    <tr>\n",
       "      <td>12904</td>\n",
       "      <td>829060856</td>\n",
       "      <td>TheresaMEP</td>\n",
       "      <td>124961</td>\n",
       "      <td>Theresa GRIFFIN</td>\n",
       "      <td>1</td>\n",
       "      <td>S&amp;D</td>\n",
       "      <td>27</td>\n",
       "      <td>GBR</td>\n",
       "      <td>1354570123</td>\n",
       "      <td>julie4nw</td>\n",
       "      <td>124963</td>\n",
       "      <td>Julie WARD</td>\n",
       "      <td>1</td>\n",
       "      <td>S&amp;D</td>\n",
       "      <td>27</td>\n",
       "      <td>GBR</td>\n",
       "      <td>Sun Jan 24 14:04:13 +0000 2016</td>\n",
       "      <td>691260217288454144</td>\n",
       "      <td>Sun Jan 24 14:54:31 +0000 2016</td>\n",
       "      <td>691272874393485314</td>\n",
       "      <td>en</td>\n",
       "      <td>I'm with @UKYP North West now in Knowsley - gr...</td>\n",
       "    </tr>\n",
       "    <tr>\n",
       "      <td>12905</td>\n",
       "      <td>829060856</td>\n",
       "      <td>TheresaMEP</td>\n",
       "      <td>124961</td>\n",
       "      <td>Theresa GRIFFIN</td>\n",
       "      <td>1</td>\n",
       "      <td>S&amp;D</td>\n",
       "      <td>27</td>\n",
       "      <td>GBR</td>\n",
       "      <td>202610289</td>\n",
       "      <td>akhanmep</td>\n",
       "      <td>124962</td>\n",
       "      <td>Afzal KHAN</td>\n",
       "      <td>1</td>\n",
       "      <td>S&amp;D</td>\n",
       "      <td>27</td>\n",
       "      <td>GBR</td>\n",
       "      <td>Sun Jan 24 14:12:29 +0000 2016</td>\n",
       "      <td>691262296396599296</td>\n",
       "      <td>Sun Jan 24 14:21:13 +0000 2016</td>\n",
       "      <td>691264493725335552</td>\n",
       "      <td>en</td>\n",
       "      <td>Listening to some fab ideas from young people ...</td>\n",
       "    </tr>\n",
       "    <tr>\n",
       "      <td>12906</td>\n",
       "      <td>829060856</td>\n",
       "      <td>TheresaMEP</td>\n",
       "      <td>124961</td>\n",
       "      <td>Theresa GRIFFIN</td>\n",
       "      <td>1</td>\n",
       "      <td>S&amp;D</td>\n",
       "      <td>27</td>\n",
       "      <td>GBR</td>\n",
       "      <td>1354570123</td>\n",
       "      <td>julie4nw</td>\n",
       "      <td>124963</td>\n",
       "      <td>Julie WARD</td>\n",
       "      <td>1</td>\n",
       "      <td>S&amp;D</td>\n",
       "      <td>27</td>\n",
       "      <td>GBR</td>\n",
       "      <td>Sun Jan 24 14:12:29 +0000 2016</td>\n",
       "      <td>691262296396599296</td>\n",
       "      <td>Sun Jan 24 14:54:26 +0000 2016</td>\n",
       "      <td>691272856739659776</td>\n",
       "      <td>en</td>\n",
       "      <td>Listening to some fab ideas from young people ...</td>\n",
       "    </tr>\n",
       "    <tr>\n",
       "      <td>12907</td>\n",
       "      <td>85794542</td>\n",
       "      <td>DanHannanMEP</td>\n",
       "      <td>4555</td>\n",
       "      <td>Daniel HANNAN</td>\n",
       "      <td>5</td>\n",
       "      <td>ECR</td>\n",
       "      <td>27</td>\n",
       "      <td>GBR</td>\n",
       "      <td>121171051</td>\n",
       "      <td>MargotLJParker</td>\n",
       "      <td>124945</td>\n",
       "      <td>Margot PARKER</td>\n",
       "      <td>6</td>\n",
       "      <td>EFDD</td>\n",
       "      <td>27</td>\n",
       "      <td>GBR</td>\n",
       "      <td>Sun Jan 24 21:19:27 +0000 2016</td>\n",
       "      <td>691369745531158528</td>\n",
       "      <td>Sun Jan 24 21:25:43 +0000 2016</td>\n",
       "      <td>691371326372745216</td>\n",
       "      <td>en</td>\n",
       "      <td>First, big banks, now big pharma. In whose int...</td>\n",
       "    </tr>\n",
       "  </tbody>\n",
       "</table>\n",
       "<p>12908 rows × 22 columns</p>\n",
       "</div>"
      ],
      "text/plain": [
       "       origUserId origUserScreenName  origMepId           origMepName  \\\n",
       "0        19017675       Nigel_Farage       4525          Nigel FARAGE   \n",
       "1        17675072       MartinSchulz       1911         Martin SCHULZ   \n",
       "2        17675072       MartinSchulz       1911         Martin SCHULZ   \n",
       "3       744743599           Tim_Aker      99650              Tim AKER   \n",
       "4       744743599           Tim_Aker      99650              Tim AKER   \n",
       "...           ...                ...        ...                   ...   \n",
       "12903  1485429175     JSaryuszWolski      28297  Jacek SARYUSZ-WOLSKI   \n",
       "12904   829060856         TheresaMEP     124961       Theresa GRIFFIN   \n",
       "12905   829060856         TheresaMEP     124961       Theresa GRIFFIN   \n",
       "12906   829060856         TheresaMEP     124961       Theresa GRIFFIN   \n",
       "12907    85794542       DanHannanMEP       4555         Daniel HANNAN   \n",
       "\n",
       "       origMepGroupId origMepGroupShort  origMepCountryId origMepCountryShort  \\\n",
       "0                   6              EFDD                27                 GBR   \n",
       "1                   1               S&D                10                 DEU   \n",
       "2                   1               S&D                10                 DEU   \n",
       "3                   6              EFDD                27                 GBR   \n",
       "4                   6              EFDD                27                 GBR   \n",
       "...               ...               ...               ...                 ...   \n",
       "12903               4               EPP                20                 POL   \n",
       "12904               1               S&D                27                 GBR   \n",
       "12905               1               S&D                27                 GBR   \n",
       "12906               1               S&D                27                 GBR   \n",
       "12907               5               ECR                27                 GBR   \n",
       "\n",
       "       retweetUserId retweetUserScreenName  retweetMepId  \\\n",
       "0          121171051        MargotLJParker        124945   \n",
       "1         1668992125         NathanGillMEP        124965   \n",
       "2           21648649         maritaulvskog         96672   \n",
       "3          121171051        MargotLJParker        124945   \n",
       "4           19017675          Nigel_Farage          4525   \n",
       "...              ...                   ...           ...   \n",
       "12903      539156512       ZdzKrasnodebski        124891   \n",
       "12904     1354570123              julie4nw        124963   \n",
       "12905      202610289              akhanmep        124962   \n",
       "12906     1354570123              julie4nw        124963   \n",
       "12907      121171051        MargotLJParker        124945   \n",
       "\n",
       "              retweetMepName  retweetMepGroupId retweetMepGroupShort  \\\n",
       "0              Margot PARKER                  6                 EFDD   \n",
       "1                Nathan GILL                  6                 EFDD   \n",
       "2             Marita ULVSKOG                  1                  S&D   \n",
       "3              Margot PARKER                  6                 EFDD   \n",
       "4               Nigel FARAGE                  6                 EFDD   \n",
       "...                      ...                ...                  ...   \n",
       "12903  Zdzisław KRASNODĘBSKI                  5                  ECR   \n",
       "12904             Julie WARD                  1                  S&D   \n",
       "12905             Afzal KHAN                  1                  S&D   \n",
       "12906             Julie WARD                  1                  S&D   \n",
       "12907          Margot PARKER                  6                 EFDD   \n",
       "\n",
       "       retweetMepCountryId retweetMepCountryShort  \\\n",
       "0                       27                    GBR   \n",
       "1                       27                    GBR   \n",
       "2                       26                    SWE   \n",
       "3                       27                    GBR   \n",
       "4                       27                    GBR   \n",
       "...                    ...                    ...   \n",
       "12903                   20                    POL   \n",
       "12904                   27                    GBR   \n",
       "12905                   27                    GBR   \n",
       "12906                   27                    GBR   \n",
       "12907                   27                    GBR   \n",
       "\n",
       "                        origCreatedAt         origTweetId  \\\n",
       "0      Wed Jul 04 11:05:03 +0000 2012  220473289259233285   \n",
       "1      Fri Jul 05 08:00:23 +0000 2013  353060776707235841   \n",
       "2      Sat May 17 12:47:17 +0000 2014  467647542378123264   \n",
       "3      Wed May 28 16:47:44 +0000 2014  471694322472353793   \n",
       "4      Wed May 28 16:47:44 +0000 2014  471694322472353793   \n",
       "...                               ...                 ...   \n",
       "12903  Sun Jan 24 13:17:25 +0000 2016  691248438504210432   \n",
       "12904  Sun Jan 24 14:04:13 +0000 2016  691260217288454144   \n",
       "12905  Sun Jan 24 14:12:29 +0000 2016  691262296396599296   \n",
       "12906  Sun Jan 24 14:12:29 +0000 2016  691262296396599296   \n",
       "12907  Sun Jan 24 21:19:27 +0000 2016  691369745531158528   \n",
       "\n",
       "                     retweetCreatedAt      retweetTweetId lang  \\\n",
       "0      Sun Dec 07 21:46:00 +0000 2014  541710240014942209   en   \n",
       "1      Thu Jun 18 08:52:51 +0000 2015  611456527409524736   en   \n",
       "2      Wed Sep 16 09:15:06 +0000 2015  644077036022165504   en   \n",
       "3      Thu Dec 04 22:21:10 +0000 2014  540631925145493504   en   \n",
       "4      Sun Mar 29 18:53:32 +0000 2015  582254277122473984   en   \n",
       "...                               ...                 ...  ...   \n",
       "12903  Mon Jan 25 08:21:14 +0000 2016  691536290198745088   en   \n",
       "12904  Sun Jan 24 14:54:31 +0000 2016  691272874393485314   en   \n",
       "12905  Sun Jan 24 14:21:13 +0000 2016  691264493725335552   en   \n",
       "12906  Sun Jan 24 14:54:26 +0000 2016  691272856739659776   en   \n",
       "12907  Sun Jan 24 21:25:43 +0000 2016  691371326372745216   en   \n",
       "\n",
       "                                               tweetText  \n",
       "0      Euro Parliament votes overwhelmingly to reject...  \n",
       "1      US have one currency, one Central Bank and one...  \n",
       "2      More jobs for young people is my top priority ...  \n",
       "3      Vote #Labour, get Tory. Vote Tory, get Labour....  \n",
       "4      Vote #Labour, get Tory. Vote Tory, get Labour....  \n",
       "...                                                  ...  \n",
       "12903  Drastic drop in positive EU perception in Pola...  \n",
       "12904  I'm with @UKYP North West now in Knowsley - gr...  \n",
       "12905  Listening to some fab ideas from young people ...  \n",
       "12906  Listening to some fab ideas from young people ...  \n",
       "12907  First, big banks, now big pharma. In whose int...  \n",
       "\n",
       "[12908 rows x 22 columns]"
      ]
     },
     "execution_count": 41,
     "metadata": {},
     "output_type": "execute_result"
    }
   ],
   "source": [
    "fullRetweets"
   ]
  },
  {
   "cell_type": "code",
   "execution_count": 42,
   "metadata": {},
   "outputs": [],
   "source": [
    "classif_tweets = fullRetweets[['tweetText', 'origMepGroupShort']]"
   ]
  },
  {
   "cell_type": "code",
   "execution_count": 43,
   "metadata": {},
   "outputs": [],
   "source": [
    "classif_tweets = classif_tweets.drop_duplicates()"
   ]
  },
  {
   "cell_type": "code",
   "execution_count": 44,
   "metadata": {},
   "outputs": [
    {
     "data": {
      "text/html": [
       "<div>\n",
       "<style scoped>\n",
       "    .dataframe tbody tr th:only-of-type {\n",
       "        vertical-align: middle;\n",
       "    }\n",
       "\n",
       "    .dataframe tbody tr th {\n",
       "        vertical-align: top;\n",
       "    }\n",
       "\n",
       "    .dataframe thead th {\n",
       "        text-align: right;\n",
       "    }\n",
       "</style>\n",
       "<table border=\"1\" class=\"dataframe\">\n",
       "  <thead>\n",
       "    <tr style=\"text-align: right;\">\n",
       "      <th></th>\n",
       "      <th>tweetText</th>\n",
       "      <th>origMepGroupShort</th>\n",
       "    </tr>\n",
       "  </thead>\n",
       "  <tbody>\n",
       "    <tr>\n",
       "      <td>0</td>\n",
       "      <td>Euro Parliament votes overwhelmingly to reject...</td>\n",
       "      <td>EFDD</td>\n",
       "    </tr>\n",
       "    <tr>\n",
       "      <td>1</td>\n",
       "      <td>US have one currency, one Central Bank and one...</td>\n",
       "      <td>S&amp;D</td>\n",
       "    </tr>\n",
       "    <tr>\n",
       "      <td>2</td>\n",
       "      <td>More jobs for young people is my top priority ...</td>\n",
       "      <td>S&amp;D</td>\n",
       "    </tr>\n",
       "    <tr>\n",
       "      <td>3</td>\n",
       "      <td>Vote #Labour, get Tory. Vote Tory, get Labour....</td>\n",
       "      <td>EFDD</td>\n",
       "    </tr>\n",
       "    <tr>\n",
       "      <td>5</td>\n",
       "      <td>Answering my question in ECR Group J-C Juncker...</td>\n",
       "      <td>ECR</td>\n",
       "    </tr>\n",
       "    <tr>\n",
       "      <td>...</td>\n",
       "      <td>...</td>\n",
       "      <td>...</td>\n",
       "    </tr>\n",
       "    <tr>\n",
       "      <td>12901</td>\n",
       "      <td>Time to lock EU leaders in a room to sort #ref...</td>\n",
       "      <td>ALDE</td>\n",
       "    </tr>\n",
       "    <tr>\n",
       "      <td>12903</td>\n",
       "      <td>Drastic drop in positive EU perception in Pola...</td>\n",
       "      <td>EPP</td>\n",
       "    </tr>\n",
       "    <tr>\n",
       "      <td>12904</td>\n",
       "      <td>I'm with @UKYP North West now in Knowsley - gr...</td>\n",
       "      <td>S&amp;D</td>\n",
       "    </tr>\n",
       "    <tr>\n",
       "      <td>12905</td>\n",
       "      <td>Listening to some fab ideas from young people ...</td>\n",
       "      <td>S&amp;D</td>\n",
       "    </tr>\n",
       "    <tr>\n",
       "      <td>12907</td>\n",
       "      <td>First, big banks, now big pharma. In whose int...</td>\n",
       "      <td>ECR</td>\n",
       "    </tr>\n",
       "  </tbody>\n",
       "</table>\n",
       "<p>10102 rows × 2 columns</p>\n",
       "</div>"
      ],
      "text/plain": [
       "                                               tweetText origMepGroupShort\n",
       "0      Euro Parliament votes overwhelmingly to reject...              EFDD\n",
       "1      US have one currency, one Central Bank and one...               S&D\n",
       "2      More jobs for young people is my top priority ...               S&D\n",
       "3      Vote #Labour, get Tory. Vote Tory, get Labour....              EFDD\n",
       "5      Answering my question in ECR Group J-C Juncker...               ECR\n",
       "...                                                  ...               ...\n",
       "12901  Time to lock EU leaders in a room to sort #ref...              ALDE\n",
       "12903  Drastic drop in positive EU perception in Pola...               EPP\n",
       "12904  I'm with @UKYP North West now in Knowsley - gr...               S&D\n",
       "12905  Listening to some fab ideas from young people ...               S&D\n",
       "12907  First, big banks, now big pharma. In whose int...               ECR\n",
       "\n",
       "[10102 rows x 2 columns]"
      ]
     },
     "execution_count": 44,
     "metadata": {},
     "output_type": "execute_result"
    }
   ],
   "source": [
    "classif_tweets"
   ]
  },
  {
   "cell_type": "markdown",
   "metadata": {},
   "source": [
    "Let's first investigate the balance of different tweets between the different political parties."
   ]
  },
  {
   "cell_type": "code",
   "execution_count": 45,
   "metadata": {},
   "outputs": [
    {
     "data": {
      "image/png": "[encoded data removed]",
      "text/plain": [
       "<Figure size 432x288 with 1 Axes>"
      ]
     },
     "metadata": {
      "needs_background": "light"
     },
     "output_type": "display_data"
    }
   ],
   "source": [
    "classif_tweets.origMepGroupShort.value_counts().plot(kind='barh')\n",
    "plt.show()"
   ]
  },
  {
   "cell_type": "markdown",
   "metadata": {},
   "source": [
    "* We notice that the data are quite unbalanced, might have to think what we should do about that\n",
    "* Let's create a ```dummy classifier``` who's score will be our threshold"
   ]
  },
  {
   "cell_type": "code",
   "execution_count": 46,
   "metadata": {},
   "outputs": [
    {
     "data": {
      "text/plain": [
       "array(['EFDD', 'EFDD', 'EFDD', ..., 'EFDD', 'EFDD', 'EFDD'], dtype='<U4')"
      ]
     },
     "execution_count": 46,
     "metadata": {},
     "output_type": "execute_result"
    }
   ],
   "source": [
    "X = classif_tweets.tweetText\n",
    "y = classif_tweets.origMepGroupShort\n",
    "dummy_clf = DummyClassifier(strategy=\"most_frequent\")\n",
    "dummy_clf.fit(X, y)\n",
    "dummy_clf.predict(X)"
   ]
  },
  {
   "cell_type": "code",
   "execution_count": 47,
   "metadata": {},
   "outputs": [
    {
     "data": {
      "text/plain": [
       "0.23935854286279945"
      ]
     },
     "execution_count": 47,
     "metadata": {},
     "output_type": "execute_result"
    }
   ],
   "source": [
    "dummy_clf.score(X, y)"
   ]
  },
  {
   "cell_type": "markdown",
   "metadata": {},
   "source": [
    "Number of words to be inserted to the model"
   ]
  },
  {
   "cell_type": "code",
   "execution_count": 48,
   "metadata": {},
   "outputs": [
    {
     "data": {
      "text/plain": [
       "175363"
      ]
     },
     "execution_count": 48,
     "metadata": {},
     "output_type": "execute_result"
    }
   ],
   "source": [
    "classif_tweets.tweetText.apply(lambda x: len(x.split(' '))).sum()"
   ]
  },
  {
   "cell_type": "markdown",
   "metadata": {},
   "source": [
    "## Further cleaning"
   ]
  },
  {
   "cell_type": "code",
   "execution_count": 49,
   "metadata": {},
   "outputs": [
    {
     "name": "stderr",
     "output_type": "stream",
     "text": [
      "[nltk_data] Downloading package stopwords to\n",
      "[nltk_data]     C:\\Users\\Ion\\AppData\\Roaming\\nltk_data...\n",
      "[nltk_data]   Package stopwords is already up-to-date!\n",
      "[nltk_data] Downloading package wordnet to\n",
      "[nltk_data]     C:\\Users\\Ion\\AppData\\Roaming\\nltk_data...\n",
      "[nltk_data]   Package wordnet is already up-to-date!\n"
     ]
    },
    {
     "data": {
      "text/plain": [
       "True"
      ]
     },
     "execution_count": 49,
     "metadata": {},
     "output_type": "execute_result"
    }
   ],
   "source": [
    "import nltk\n",
    "from nltk.corpus import stopwords\n",
    "from nltk.stem import WordNetLemmatizer\n",
    "from nltk.tokenize import RegexpTokenizer\n",
    "from nltk.stem.porter import PorterStemmer\n",
    "\n",
    "nltk.download('stopwords')\n",
    "nltk.download('wordnet')"
   ]
  },
  {
   "cell_type": "markdown",
   "metadata": {},
   "source": [
    "* We have to create a **bag of words** is which we will do the classification\n",
    "* We must to some further cleaning to the text to get better results"
   ]
  },
  {
   "cell_type": "code",
   "execution_count": 50,
   "metadata": {},
   "outputs": [],
   "source": [
    "### Remove Stepwords\n",
    "\n",
    "STOPWORDS = set(stopwords.words('english'))\n",
    "my_additional_stop_words = ['http', 'https', 'amp', 'timmermans',\n",
    "                            'timkirkhopemep', 'etuc_ces', 'europe', 'eu', 'ep',\n",
    "                            'european', 'parliament', 'today', 'tonight', 'tomorrow', 'morning',\n",
    "                           'see', 'want']\n",
    "STOPWORDS.update(my_additional_stop_words)\n",
    "def stopwords(text):\n",
    "    text = ' '.join(word for word in text.split() if word not in STOPWORDS) # delete stopwors from text\n",
    "    return text\n",
    "\n",
    "classif_tweets.tweetText = classif_tweets.tweetText.apply(lambda x: stopwords(x))"
   ]
  },
  {
   "cell_type": "code",
   "execution_count": 51,
   "metadata": {},
   "outputs": [],
   "source": [
    "import string\n",
    "import re"
   ]
  },
  {
   "cell_type": "code",
   "execution_count": 52,
   "metadata": {},
   "outputs": [],
   "source": [
    "### Remove Punctuation\n",
    "\n",
    "def remove_punctuation(text):\n",
    "    no_punc = \"\".join([c for c in text if c not in string.punctuation])\n",
    "    return no_punc\n",
    "\n",
    "classif_tweets['tweetText'] = classif_tweets['tweetText'].apply(lambda x: remove_punctuation(x)) "
   ]
  },
  {
   "cell_type": "code",
   "execution_count": 53,
   "metadata": {},
   "outputs": [],
   "source": [
    "### Remove URLS\n",
    "\n",
    "def remove_urls(text):\n",
    "    no_url = re.sub(r'\\w+:\\/{2}[\\d\\w-]+(\\.[\\d\\w-]+)*(?:(?:\\/[^\\s/]*))*', '', text)\n",
    "    return no_url\n",
    "classif_tweets['tweetText'] = classif_tweets['tweetText'].apply(lambda x: remove_urls(x)) "
   ]
  },
  {
   "cell_type": "markdown",
   "metadata": {},
   "source": [
    "We will try both Lemmatizer and Stemming to compare the results on the models and conclude"
   ]
  },
  {
   "cell_type": "code",
   "execution_count": 54,
   "metadata": {},
   "outputs": [],
   "source": [
    "tokenizer = RegexpTokenizer(r'\\w+')\n",
    "classif_tweets.tweetText = classif_tweets.tweetText.apply(lambda x: tokenizer.tokenize(x.lower()))"
   ]
  },
  {
   "cell_type": "code",
   "execution_count": 55,
   "metadata": {},
   "outputs": [],
   "source": [
    "lemmatizer = WordNetLemmatizer()\n",
    "\n",
    "def word_lemmatizer(text):\n",
    "    lem_text = \" \".join([lemmatizer.lemmatize(i) for i in text])\n",
    "    return lem_text\n",
    "\n",
    "classif_tweets.tweetText = classif_tweets.tweetText.apply(lambda x: word_lemmatizer(x))"
   ]
  },
  {
   "cell_type": "markdown",
   "metadata": {},
   "source": [
    "On Naive Bayes we got 0.52 accurancy"
   ]
  },
  {
   "cell_type": "markdown",
   "metadata": {},
   "source": [
    "Let's also try Stemming (which is more aggressive)"
   ]
  },
  {
   "cell_type": "code",
   "execution_count": 56,
   "metadata": {},
   "outputs": [],
   "source": [
    "# Deactivated Stemmer since it gives us worse results\n",
    "\n",
    "# stemmer = PorterStemmer()\n",
    "\n",
    "# def word_stemmer(text):\n",
    "#     stem_text = \" \".join([stemmer.stem(i) for i in text])\n",
    "#     return stem_text\n",
    "\n",
    "# classif_tweets.tweetText = classif_tweets.tweetText.apply(lambda x: word_stemmer(x))"
   ]
  },
  {
   "cell_type": "markdown",
   "metadata": {},
   "source": [
    "Stemming got us a lower accurancy on Naive Bayes model, so we are going to use **lemmatizer**"
   ]
  },
  {
   "cell_type": "code",
   "execution_count": 57,
   "metadata": {},
   "outputs": [
    {
     "data": {
      "text/plain": [
       "0        euro parliament vote overwhelmingly reject act...\n",
       "1        u one currency one central bank one govt europ...\n",
       "2        more job young people top priority eu socialde...\n",
       "3        vote labour get tory vote tory get labour vote...\n",
       "5        answering question ecr group jc juncker confir...\n",
       "                               ...                        \n",
       "12901    time lock eu leader room sort refugeecrisis th...\n",
       "12903    drastic drop positive eu perception poland eff...\n",
       "12904    im ukyp north west knowsley great meet myps ac...\n",
       "12905    listening fab idea young people across nw tack...\n",
       "12907    first big bank big pharma in whose interest eu...\n",
       "Name: tweetText, Length: 10102, dtype: object"
      ]
     },
     "execution_count": 57,
     "metadata": {},
     "output_type": "execute_result"
    }
   ],
   "source": [
    "classif_tweets.tweetText"
   ]
  },
  {
   "cell_type": "markdown",
   "metadata": {},
   "source": [
    "Now that we cleaned the data, let's create a WordCloud, just for fun!"
   ]
  },
  {
   "cell_type": "code",
   "execution_count": 58,
   "metadata": {},
   "outputs": [],
   "source": [
    "%matplotlib inline\n",
    "\n",
    "from wordcloud import WordCloud\n",
    "\n",
    "def plot_word_cloud(text):\n",
    "    wordcloud_instance = WordCloud(width = 800, height = 800, \n",
    "                background_color ='black', stopwords=STOPWORDS,\n",
    "                min_font_size = 10).generate(text) \n",
    "             \n",
    "    plt.figure(figsize = (8, 8), facecolor = None) \n",
    "    plt.imshow(wordcloud_instance) \n",
    "    plt.axis(\"off\") \n",
    "    plt.tight_layout(pad = 0) \n",
    "    plt.show()"
   ]
  },
  {
   "cell_type": "code",
   "execution_count": 59,
   "metadata": {},
   "outputs": [],
   "source": [
    "def plot_word_cloud_for_category(df, category):\n",
    "    text_df = df.loc[df.origMepGroupShort == str(category)]\n",
    "\n",
    "    texts = ''    \n",
    "    for index, item in text_df.iterrows():\n",
    "        texts = texts + ' ' + item['tweetText']\n",
    "    plot_word_cloud(texts)"
   ]
  },
  {
   "cell_type": "code",
   "execution_count": 60,
   "metadata": {},
   "outputs": [
    {
     "data": {
      "image/png": "[encoded data removed]",
      "text/plain": [
       "<Figure size 576x576 with 1 Axes>"
      ]
     },
     "metadata": {
      "needs_background": "light"
     },
     "output_type": "display_data"
    }
   ],
   "source": [
    "plot_word_cloud_for_category(classif_tweets,'EFDD')"
   ]
  },
  {
   "cell_type": "code",
   "execution_count": 61,
   "metadata": {},
   "outputs": [],
   "source": [
    "my_tags = list(classif_tweets.origMepGroupShort.unique())"
   ]
  },
  {
   "cell_type": "markdown",
   "metadata": {},
   "source": [
    "It's time to split the data to training and testing. We are going give 70% for training and 30% for testing"
   ]
  },
  {
   "cell_type": "code",
   "execution_count": 62,
   "metadata": {},
   "outputs": [],
   "source": [
    "X = classif_tweets.tweetText\n",
    "y = classif_tweets.origMepGroupShort\n",
    "\n",
    "X_train, X_test, y_train, y_test = train_test_split(X, y, test_size=0.3, random_state = 42)"
   ]
  },
  {
   "cell_type": "markdown",
   "metadata": {},
   "source": [
    "## Naive Bayes"
   ]
  },
  {
   "cell_type": "code",
   "execution_count": 63,
   "metadata": {},
   "outputs": [
    {
     "ename": "NameError",
     "evalue": "name 'cross_val_score' is not defined",
     "output_type": "error",
     "traceback": [
      "\u001b[1;31m---------------------------------------------------------------------------\u001b[0m",
      "\u001b[1;31mNameError\u001b[0m                                 Traceback (most recent call last)",
      "\u001b[1;32m<ipython-input-63-46432744f34c>\u001b[0m in \u001b[0;36m<module>\u001b[1;34m\u001b[0m\n\u001b[0;32m     13\u001b[0m \u001b[0my_pred\u001b[0m \u001b[1;33m=\u001b[0m \u001b[0mnb\u001b[0m\u001b[1;33m.\u001b[0m\u001b[0mpredict\u001b[0m\u001b[1;33m(\u001b[0m\u001b[0mX_test\u001b[0m\u001b[1;33m)\u001b[0m\u001b[1;33m\u001b[0m\u001b[1;33m\u001b[0m\u001b[0m\n\u001b[0;32m     14\u001b[0m \u001b[1;33m\u001b[0m\u001b[0m\n\u001b[1;32m---> 15\u001b[1;33m \u001b[0mscores\u001b[0m \u001b[1;33m=\u001b[0m \u001b[0mcross_val_score\u001b[0m\u001b[1;33m(\u001b[0m\u001b[0mnb\u001b[0m\u001b[1;33m,\u001b[0m \u001b[0mX\u001b[0m\u001b[1;33m,\u001b[0m \u001b[0my\u001b[0m\u001b[1;33m,\u001b[0m \u001b[0mcv\u001b[0m\u001b[1;33m=\u001b[0m\u001b[1;36m5\u001b[0m\u001b[1;33m)\u001b[0m\u001b[1;33m\u001b[0m\u001b[1;33m\u001b[0m\u001b[0m\n\u001b[0m\u001b[0;32m     16\u001b[0m \u001b[0mprint\u001b[0m\u001b[1;33m(\u001b[0m\u001b[1;34m'Accuracy for Naive Bayes Classifier %s'\u001b[0m \u001b[1;33m%\u001b[0m \u001b[0maccuracy_score\u001b[0m\u001b[1;33m(\u001b[0m\u001b[0my_pred\u001b[0m\u001b[1;33m,\u001b[0m \u001b[0my_test\u001b[0m\u001b[1;33m)\u001b[0m\u001b[1;33m)\u001b[0m\u001b[1;33m\u001b[0m\u001b[1;33m\u001b[0m\u001b[0m\n\u001b[0;32m     17\u001b[0m \u001b[0mprint\u001b[0m\u001b[1;33m(\u001b[0m\u001b[1;34m'Accuracy for Naive Bayes Classifier with CV: '\u001b[0m\u001b[1;33m,\u001b[0m \u001b[0mscores\u001b[0m\u001b[1;33m.\u001b[0m\u001b[0mmean\u001b[0m\u001b[1;33m(\u001b[0m\u001b[1;33m)\u001b[0m\u001b[1;33m)\u001b[0m\u001b[1;33m\u001b[0m\u001b[1;33m\u001b[0m\u001b[0m\n",
      "\u001b[1;31mNameError\u001b[0m: name 'cross_val_score' is not defined"
     ]
    }
   ],
   "source": [
    "from sklearn.naive_bayes import MultinomialNB\n",
    "from sklearn.pipeline import Pipeline\n",
    "from sklearn.feature_extraction.text import TfidfTransformer\n",
    "\n",
    "nb = Pipeline(steps=[('vect', CountVectorizer()),\n",
    "               ('tfidf', TfidfTransformer()),\n",
    "               ('clf', MultinomialNB()),\n",
    "              ])\n",
    "\n",
    "nb.fit(X_train, y_train)\n",
    "\n",
    "from sklearn.metrics import classification_report\n",
    "y_pred = nb.predict(X_test)\n",
    "\n",
    "scores = cross_val_score(nb, X, y, cv=5)\n",
    "print('Accuracy for Naive Bayes Classifier %s' % accuracy_score(y_pred, y_test))\n",
    "print('Accuracy for Naive Bayes Classifier with CV: ', scores.mean())\n",
    "print(classification_report(y_test, y_pred,target_names=my_tags))"
   ]
  },
  {
   "cell_type": "markdown",
   "metadata": {},
   "source": [
    "We only have achieved 50% accurancy. Let's try another method"
   ]
  },
  {
   "cell_type": "markdown",
   "metadata": {},
   "source": [
    "## Stohastic Gradient Descend"
   ]
  },
  {
   "cell_type": "code",
   "execution_count": null,
   "metadata": {},
   "outputs": [],
   "source": [
    "from sklearn.linear_model import SGDClassifier\n",
    "\n",
    "sgd = Pipeline(steps=[('vect', CountVectorizer()),\n",
    "                ('tfidf', TfidfTransformer()),\n",
    "                ('clf', SGDClassifier(loss='hinge', penalty='l2',alpha=1e-3, random_state=42, max_iter=5, tol=None)),\n",
    "               ])\n",
    "sgd.fit(X_train, y_train)\n",
    "\n",
    "y_pred = sgd.predict(X_test)\n",
    "\n",
    "scores = cross_val_score(sgd, X, y, cv=5)\n",
    "print('Accuracy for SGD Classifier %s' % accuracy_score(y_pred, y_test))\n",
    "print('Accuracy for SGD Classifier with CV: ', scores.mean())\n",
    "\n",
    "print(classification_report(y_test, y_pred,target_names=my_tags))"
   ]
  },
  {
   "cell_type": "markdown",
   "metadata": {},
   "source": [
    "It seems we did better, achieving 60%, which is 10% better than the Naive Bayes"
   ]
  },
  {
   "cell_type": "markdown",
   "metadata": {},
   "source": [
    "## Multi Class Logistic Regression "
   ]
  },
  {
   "cell_type": "code",
   "execution_count": null,
   "metadata": {},
   "outputs": [],
   "source": [
    "from sklearn.linear_model import LogisticRegression\n",
    "\n",
    "logreg = Pipeline(steps=[('vect', CountVectorizer()),\n",
    "                ('tfidf', TfidfTransformer()),\n",
    "                ('clf', LogisticRegression(n_jobs=1, C=1e5)),\n",
    "               ])\n",
    "logreg.fit(X_train, y_train)\n",
    "\n",
    "y_pred = logreg.predict(X_test)\n",
    "\n",
    "scores = cross_val_score(logreg, X, y, cv=5)\n",
    "print('Accuracy for Logistic Regression Classifier %s' % accuracy_score(y_pred, y_test))\n",
    "print('Accuracy for Logistic Regression Classifier with CV: ', scores.mean())\n",
    "print(classification_report(y_test, y_pred, target_names=my_tags))"
   ]
  },
  {
   "cell_type": "markdown",
   "metadata": {},
   "source": [
    "## Random Forest Classifier"
   ]
  },
  {
   "cell_type": "code",
   "execution_count": null,
   "metadata": {},
   "outputs": [],
   "source": [
    "from sklearn.ensemble import RandomForestClassifier\n",
    "\n",
    "rfClf = Pipeline(steps=[('vect', CountVectorizer()),\n",
    "                ('tfidf', TfidfTransformer()),\n",
    "                        ('random_forest', RandomForestClassifier())])\n",
    "scores = cross_val_score(rfClf, X, y, cv=5, scoring='accuracy')\n",
    "\n",
    "y_pred = logreg.predict(X_test)\n",
    "\n",
    "print('CV Accuracy for RandomForest: ', scores.mean())\n",
    "print(classification_report(y_test, y_pred, target_names=my_tags))"
   ]
  },
  {
   "cell_type": "markdown",
   "metadata": {},
   "source": [
    "## XGBoost Classifier"
   ]
  },
  {
   "cell_type": "code",
   "execution_count": null,
   "metadata": {},
   "outputs": [],
   "source": [
    "import xgboost as xgb\n",
    "\n",
    "xgb = Pipeline(steps=[('vect', CountVectorizer()),\n",
    "                         ('tfidf', TfidfTransformer()),\n",
    "                         ('xgboost', xgb.XGBClassifier(objective='multi:softmax'))])\n",
    "scores = cross_val_score(xgb, X, y, cv=5)\n",
    "print('Accuracy for XGBoost Classifier : ', scores.mean())"
   ]
  },
  {
   "cell_type": "markdown",
   "metadata": {},
   "source": [
    "## ADABoost"
   ]
  },
  {
   "cell_type": "code",
   "execution_count": null,
   "metadata": {},
   "outputs": [],
   "source": [
    "from sklearn.ensemble import AdaBoostClassifier\n",
    "ada = Pipeline(steps=[('vect', CountVectorizer()),\n",
    "                ('tfidf', TfidfTransformer()),\n",
    "                                ('ada', AdaBoostClassifier(n_estimators=100, random_state=0))])\n",
    "\n",
    "scores = cross_val_score(ada, X, y, cv=5)\n",
    "print('Accuracy for Tf-Idf & Ada Classifier : ', scores.mean())"
   ]
  },
  {
   "cell_type": "markdown",
   "metadata": {},
   "source": [
    "pretty bad..."
   ]
  },
  {
   "cell_type": "markdown",
   "metadata": {},
   "source": [
    "## SGC with gridseach"
   ]
  },
  {
   "cell_type": "code",
   "execution_count": null,
   "metadata": {},
   "outputs": [],
   "source": [
    "from sklearn.model_selection import GridSearchCV\n",
    "import pprint\n",
    "from time import time\n",
    "pipeline = Pipeline([\n",
    "    ('vect', CountVectorizer()),\n",
    "    ('tfidf', TfidfTransformer()),\n",
    "    ('clf', SGDClassifier(loss='hinge', penalty='l2',alpha=1e-3, random_state=42, max_iter=5, tol=None)),\n",
    "])\n",
    "\n",
    "parameters = {\n",
    "    'vect__max_df': (0.5, 0.75, 1.0),\n",
    "    # 'vect__max_features': (None, 5000, 10000, 50000),\n",
    "    'vect__ngram_range': ((1, 1), (1, 2)),  # unigrams or bigrams\n",
    "    # 'tfidf__use_idf': (True, False),\n",
    "    # 'tfidf__norm': ('l1', 'l2'),\n",
    "    'clf__max_iter': (20,),\n",
    "    'clf__alpha': (0.00001, 0.000001),\n",
    "    'clf__penalty': ('l2', 'elasticnet')\n",
    "    # 'clf__max_iter': (10, 50, 80)\n",
    "}\n",
    "\n",
    "grid_search = GridSearchCV(pipeline, parameters, n_jobs=-1, verbose=1)\n",
    "print(\"Performing grid search...\")\n",
    "print(\"pipeline:\", [name for name, _ in pipeline.steps])\n",
    "\n",
    "t0 = time()\n",
    "grid_search.fit(X, y)\n",
    "print(\"done in %0.3fs\" % (time() - t0))\n",
    "print()\n",
    "\n",
    "print(\"Best score: %0.3f\" % grid_search.best_score_)\n",
    "print(\"Best parameters set:\")\n",
    "best_parameters = grid_search.best_estimator_.get_params()\n",
    "for param_name in sorted(parameters.keys()):\n",
    "    print(\"\\t%s: %r\" % (param_name, best_parameters[param_name]))"
   ]
  },
  {
   "cell_type": "code",
   "execution_count": null,
   "metadata": {},
   "outputs": [],
   "source": [
    "from sklearn.linear_model import SGDClassifier\n",
    "\n",
    "sgd = Pipeline(steps=[('vect', CountVectorizer()),\n",
    "                ('tfidf', TfidfTransformer()),\n",
    "                ('clf', SGDClassifier(loss='hinge', penalty='l2',alpha=1e-3, random_state=42, max_iter=5, tol=None)),\n",
    "               ])\n",
    "sgd.fit(X_train, y_train)\n",
    "\n",
    "y_pred = sgd.predict(X_test)\n",
    "\n",
    "scores = cross_val_score(sgd, X, y, cv=5)\n",
    "print('Accuracy for SGD Classifier %s' % accuracy_score(y_pred, y_test))\n",
    "print('Accuracy for SGD Classifier with CV: ', scores.mean())\n",
    "\n",
    "print(classification_report(y_test, y_pred,target_names=my_tags))"
   ]
  },
  {
   "cell_type": "code",
   "execution_count": null,
   "metadata": {},
   "outputs": [],
   "source": []
  },
  {
   "cell_type": "code",
   "execution_count": null,
   "metadata": {},
   "outputs": [],
   "source": []
  },
  {
   "cell_type": "code",
   "execution_count": null,
   "metadata": {},
   "outputs": [],
   "source": []
  },
  {
   "cell_type": "code",
   "execution_count": null,
   "metadata": {},
   "outputs": [],
   "source": []
  },
  {
   "cell_type": "code",
   "execution_count": null,
   "metadata": {},
   "outputs": [],
   "source": []
  },
  {
   "cell_type": "code",
   "execution_count": null,
   "metadata": {},
   "outputs": [],
   "source": []
  },
  {
   "cell_type": "code",
   "execution_count": null,
   "metadata": {},
   "outputs": [],
   "source": [
    "vectorizer = CountVectorizer()\n",
    "\n",
    "X_train_dtm = vectorizer.fit_transform(X_train)\n",
    "\n",
    "X_test_dtm = vectorizer.transform(X_test)"
   ]
  },
  {
   "cell_type": "code",
   "execution_count": null,
   "metadata": {},
   "outputs": [],
   "source": [
    "nb = MultinomialNB()\n",
    "\n",
    "nb.fit(X_train_dtm, y_train)\n",
    "\n",
    "y_pred_class = nb.predict(X_test_dtm)"
   ]
  },
  {
   "cell_type": "code",
   "execution_count": null,
   "metadata": {},
   "outputs": [],
   "source": [
    "accuracy_score(y_test, y_pred_class)"
   ]
  },
  {
   "cell_type": "code",
   "execution_count": null,
   "metadata": {},
   "outputs": [],
   "source": []
  },
  {
   "cell_type": "code",
   "execution_count": null,
   "metadata": {},
   "outputs": [],
   "source": []
  },
  {
   "cell_type": "code",
   "execution_count": null,
   "metadata": {},
   "outputs": [],
   "source": [
    "sgd = SGDClassifier(loss='hinge', penalty='l2',alpha=1e-3, random_state=42, max_iter=5, tol=None)\n",
    "\n",
    "sgd.fit(X_train_dtm, y_train)\n",
    "\n",
    "y_pred_class = sgd.predict(X_test_dtm)\n",
    "\n",
    "accuracy_score(y_test, y_pred_class)"
   ]
  },
  {
   "cell_type": "code",
   "execution_count": null,
   "metadata": {},
   "outputs": [],
   "source": []
  },
  {
   "cell_type": "code",
   "execution_count": null,
   "metadata": {},
   "outputs": [],
   "source": []
  },
  {
   "cell_type": "code",
   "execution_count": null,
   "metadata": {},
   "outputs": [],
   "source": []
  },
  {
   "cell_type": "code",
   "execution_count": null,
   "metadata": {},
   "outputs": [],
   "source": []
  },
  {
   "cell_type": "code",
   "execution_count": null,
   "metadata": {},
   "outputs": [],
   "source": []
  },
  {
   "cell_type": "code",
   "execution_count": null,
   "metadata": {},
   "outputs": [],
   "source": []
  },
  {
   "cell_type": "code",
   "execution_count": null,
   "metadata": {},
   "outputs": [],
   "source": []
  },
  {
   "cell_type": "code",
   "execution_count": null,
   "metadata": {},
   "outputs": [],
   "source": []
  },
  {
   "cell_type": "code",
   "execution_count": null,
   "metadata": {},
   "outputs": [],
   "source": [
    "from sklearn.model_selection import GridSearchCV\n",
    "text_clf = Pipeline([('vect', CountVectorizer()),\n",
    "                     ('tfidf', TfidfTransformer()),\n",
    "                     ('clf', SGDClassifier(loss='hinge', penalty='l2',\n",
    "                                           alpha=1e-3,\n",
    "                                           random_state=42))\n",
    "                    ])\n",
    "\n",
    "parameters = {'vect__ngram_range': [(1, 1), (1, 2)],\n",
    "              'tfidf__use_idf': (True, False),\n",
    "              'clf__alpha': (1e-2, 1e-3)\n",
    "             }\n",
    "\n",
    "gs_clf = GridSearchCV(text_clf, parameters, n_jobs=-1, cv=5)\n",
    "gs_clf = gs_clf.fit(X_train, y_train)"
   ]
  },
  {
   "cell_type": "code",
   "execution_count": null,
   "metadata": {},
   "outputs": [],
   "source": [
    "gs_clf.best_params_"
   ]
  },
  {
   "cell_type": "code",
   "execution_count": null,
   "metadata": {},
   "outputs": [],
   "source": [
    "gs_clf.best_score_"
   ]
  },
  {
   "cell_type": "code",
   "execution_count": null,
   "metadata": {},
   "outputs": [],
   "source": []
  },
  {
   "cell_type": "code",
   "execution_count": null,
   "metadata": {},
   "outputs": [],
   "source": []
  },
  {
   "cell_type": "code",
   "execution_count": null,
   "metadata": {},
   "outputs": [],
   "source": []
  },
  {
   "cell_type": "code",
   "execution_count": null,
   "metadata": {},
   "outputs": [],
   "source": []
  },
  {
   "cell_type": "code",
   "execution_count": null,
   "metadata": {},
   "outputs": [],
   "source": []
  },
  {
   "cell_type": "code",
   "execution_count": null,
   "metadata": {},
   "outputs": [],
   "source": []
  },
  {
   "cell_type": "code",
   "execution_count": null,
   "metadata": {},
   "outputs": [],
   "source": []
  },
  {
   "cell_type": "code",
   "execution_count": null,
   "metadata": {},
   "outputs": [],
   "source": []
  },
  {
   "cell_type": "code",
   "execution_count": null,
   "metadata": {},
   "outputs": [],
   "source": []
  }
 ],
 "metadata": {
  "kernelspec": {
   "display_name": "Python 3",
   "language": "python",
   "name": "python3"
  },
  "language_info": {
   "codemirror_mode": {
    "name": "ipython",
    "version": 3
   },
   "file_extension": ".py",
   "mimetype": "text/x-python",
   "name": "python",
   "nbconvert_exporter": "python",
   "pygments_lexer": "ipython3",
   "version": "3.7.4"
  }
 },
 "nbformat": 4,
 "nbformat_minor": 2
}
