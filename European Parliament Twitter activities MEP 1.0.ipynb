{
 "cells": [
  {
   "cell_type": "code",
   "execution_count": null,
   "metadata": {},
   "outputs": [],
   "source": [
    "import pandas as pd\n",
    "import matplotlib.pyplot as plt\n",
    "import numpy as np"
   ]
  },
  {
   "cell_type": "code",
   "execution_count": null,
   "metadata": {},
   "outputs": [],
   "source": [
    "mep = pd.read_csv('retweets.csv')"
   ]
  },
  {
   "cell_type": "code",
   "execution_count": null,
   "metadata": {},
   "outputs": [],
   "source": [
    "mep.shape"
   ]
  },
  {
   "cell_type": "code",
   "execution_count": null,
   "metadata": {},
   "outputs": [],
   "source": [
    "mep.columns"
   ]
  },
  {
   "cell_type": "markdown",
   "metadata": {},
   "source": [
    "Delete the records with not English languages"
   ]
  },
  {
   "cell_type": "code",
   "execution_count": null,
   "metadata": {},
   "outputs": [],
   "source": [
    "mep.lang"
   ]
  },
  {
   "cell_type": "code",
   "execution_count": null,
   "metadata": {},
   "outputs": [],
   "source": [
    "mep = mep.loc[mep.lang == 'en']"
   ]
  },
  {
   "cell_type": "code",
   "execution_count": null,
   "metadata": {},
   "outputs": [],
   "source": [
    "import tweepy\n",
    "auth = tweepy.OAuthHandler('hsaHW0P7kFtP7yiOTWV6E5Cmz', 'A1fgwDsjBQ48dYM8xHqq1fafs8sJpOAj9m9QFkEmqBjorpEk4X')"
   ]
  },
  {
   "cell_type": "code",
   "execution_count": null,
   "metadata": {},
   "outputs": [],
   "source": [
    "mep"
   ]
  },
  {
   "cell_type": "code",
   "execution_count": null,
   "metadata": {},
   "outputs": [],
   "source": [
    "origTweetList = mep.origTweetId.tolist()"
   ]
  },
  {
   "cell_type": "code",
   "execution_count": null,
   "metadata": {},
   "outputs": [],
   "source": [
    "try:\n",
    "    redirect_url = auth.get_authorization_url()\n",
    "except tweepy.TweepError:\n",
    "    print('Error! Failed to get request token.')"
   ]
  },
  {
   "cell_type": "code",
   "execution_count": null,
   "metadata": {},
   "outputs": [],
   "source": [
    "# api = tweepy.API(auth)\n",
    "# origText = []\n",
    "# for tweetid in origTweetList:\n",
    "#     try:\n",
    "#         tweet = api.get_status(tweetid)\n",
    "#         origText.append(tweet.text)\n",
    "#         print(tweet.text)\n",
    "#     except:\n",
    "#         origText.append('')\n",
    "#         print(' ')"
   ]
  },
  {
   "cell_type": "markdown",
   "metadata": {},
   "source": [
    "https://stackoverflow.com/questions/44581647/retrieving-a-list-of-tweets-using-tweet-id-in-tweepy"
   ]
  },
  {
   "cell_type": "code",
   "execution_count": null,
   "metadata": {},
   "outputs": [],
   "source": [
    "import tweepy\n",
    "\n",
    "import time\n",
    "\n",
    "t0 = time.time()\n",
    "\n",
    "def lookup_tweets(tweet_IDs, api):\n",
    "    full_tweets = []\n",
    "    tweet_count = len(tweet_IDs)\n",
    "    try:\n",
    "        for i in range((tweet_count // 100) + 1):\n",
    "            # Catch the last group if it is less than 100 tweets\n",
    "            end_loc = min((i + 1) * 100, tweet_count)\n",
    "            full_tweets.extend(\n",
    "                api.statuses_lookup(id_=tweet_IDs[i * 100:end_loc])\n",
    "            )  \n",
    "        return full_tweets\n",
    "    except tweepy.TweepError:\n",
    "        print('Something went wrong, quitting...')\n",
    "\n",
    "auth = tweepy.OAuthHandler('hsaHW0P7kFtP7yiOTWV6E5Cmz', 'A1fgwDsjBQ48dYM8xHqq1fafs8sJpOAj9m9QFkEmqBjorpEk4X')\n",
    "\n",
    "api = tweepy.API(auth, wait_on_rate_limit=True, wait_on_rate_limit_notify=True)\n",
    "\n",
    "# do whatever it is to get por.TweetID - the list of all IDs to look up\n",
    "\n",
    "results = lookup_tweets(origTweetList, api)\n",
    "\n",
    "final_dic = {}\n",
    "\n",
    "t1 = time.time()\n",
    "total = t1-t0\n",
    "print(total)"
   ]
  },
  {
   "cell_type": "code",
   "execution_count": null,
   "metadata": {},
   "outputs": [],
   "source": [
    "for tweet in results:\n",
    "    if tweet:\n",
    "        final_dic[tweet.id] = tweet.text"
   ]
  },
  {
   "cell_type": "code",
   "execution_count": null,
   "metadata": {},
   "outputs": [],
   "source": [
    "import pprint\n",
    "# pprint.pprint(final_dic)\n",
    "len(final_dic)"
   ]
  },
  {
   "cell_type": "code",
   "execution_count": null,
   "metadata": {},
   "outputs": [],
   "source": [
    "tweet_text = pd.DataFrame.from_dict(final_dic, orient='index', columns=['tweetText'])"
   ]
  },
  {
   "cell_type": "markdown",
   "metadata": {},
   "source": [
    "## Cross Validate that the number of rows is **10126**"
   ]
  },
  {
   "cell_type": "markdown",
   "metadata": {},
   "source": [
    "### Something to investigate: Do we have duplicate tweets on the dataset?\n",
    "### mep rows: 13796\n",
    "### mep.origTweetId.unique(): 10834"
   ]
  },
  {
   "cell_type": "code",
   "execution_count": null,
   "metadata": {},
   "outputs": [],
   "source": [
    "len(mep.origTweetId.unique())"
   ]
  },
  {
   "cell_type": "code",
   "execution_count": null,
   "metadata": {},
   "outputs": [],
   "source": [
    "tweet_text"
   ]
  },
  {
   "cell_type": "code",
   "execution_count": null,
   "metadata": {},
   "outputs": [],
   "source": [
    "mepExt = pd.merge(mep, tweet_text, left_on='origTweetId', right_index=True, how='inner')"
   ]
  },
  {
   "cell_type": "code",
   "execution_count": null,
   "metadata": {},
   "outputs": [],
   "source": [
    "group = mepExt.groupby('origMepGroupShort').count()\n",
    "groupFiltered = group.loc[group.origUserId > 50]\n",
    "mepExt = mepExt.loc[mepExt.origMepGroupShort.isin(list(groupFiltered.index))]"
   ]
  },
  {
   "cell_type": "code",
   "execution_count": null,
   "metadata": {
    "scrolled": false
   },
   "outputs": [],
   "source": [
    "mepExt"
   ]
  },
  {
   "cell_type": "code",
   "execution_count": null,
   "metadata": {},
   "outputs": [],
   "source": []
  },
  {
   "cell_type": "code",
   "execution_count": null,
   "metadata": {},
   "outputs": [],
   "source": [
    "export = mepExt.to_csv(r'C:\\Users\\Ion\\Documents\\GitHub\\Clustering-and-Classification-of-MEPs-Tweets\\fullRetweets.csv',  index = None, header=True)"
   ]
  },
  {
   "cell_type": "markdown",
   "metadata": {},
   "source": [
    "## Finish the clearing part -- Exporting the CSV so I don't need to run the proccess over and over again"
   ]
  },
  {
   "cell_type": "code",
   "execution_count": 1,
   "metadata": {},
   "outputs": [],
   "source": [
    "import pandas as pd\n",
    "import matplotlib.pyplot as plt\n",
    "import numpy as np\n",
    "pd.set_option(\"display.max_columns\", 30)\n",
    "%matplotlib inline\n",
    "\n",
    "fullRetweets = pd.read_csv('FullRetweets.csv')"
   ]
  },
  {
   "cell_type": "code",
   "execution_count": 3,
   "metadata": {},
   "outputs": [
    {
     "data": {
      "text/html": [
       "<div>\n",
       "<style scoped>\n",
       "    .dataframe tbody tr th:only-of-type {\n",
       "        vertical-align: middle;\n",
       "    }\n",
       "\n",
       "    .dataframe tbody tr th {\n",
       "        vertical-align: top;\n",
       "    }\n",
       "\n",
       "    .dataframe thead th {\n",
       "        text-align: right;\n",
       "    }\n",
       "</style>\n",
       "<table border=\"1\" class=\"dataframe\">\n",
       "  <thead>\n",
       "    <tr style=\"text-align: right;\">\n",
       "      <th></th>\n",
       "      <th>origUserId</th>\n",
       "      <th>origUserScreenName</th>\n",
       "      <th>origMepId</th>\n",
       "      <th>origMepName</th>\n",
       "      <th>origMepGroupId</th>\n",
       "      <th>origMepGroupShort</th>\n",
       "      <th>origMepCountryId</th>\n",
       "      <th>origMepCountryShort</th>\n",
       "      <th>retweetUserId</th>\n",
       "      <th>retweetUserScreenName</th>\n",
       "      <th>retweetMepId</th>\n",
       "      <th>retweetMepName</th>\n",
       "      <th>retweetMepGroupId</th>\n",
       "      <th>retweetMepGroupShort</th>\n",
       "      <th>retweetMepCountryId</th>\n",
       "      <th>retweetMepCountryShort</th>\n",
       "      <th>origCreatedAt</th>\n",
       "      <th>origTweetId</th>\n",
       "      <th>retweetCreatedAt</th>\n",
       "      <th>retweetTweetId</th>\n",
       "      <th>lang</th>\n",
       "      <th>tweetText</th>\n",
       "    </tr>\n",
       "  </thead>\n",
       "  <tbody>\n",
       "    <tr>\n",
       "      <td>0</td>\n",
       "      <td>19017675</td>\n",
       "      <td>Nigel_Farage</td>\n",
       "      <td>4525</td>\n",
       "      <td>Nigel FARAGE</td>\n",
       "      <td>6</td>\n",
       "      <td>EFDD</td>\n",
       "      <td>27</td>\n",
       "      <td>GBR</td>\n",
       "      <td>121171051</td>\n",
       "      <td>MargotLJParker</td>\n",
       "      <td>124945</td>\n",
       "      <td>Margot PARKER</td>\n",
       "      <td>6</td>\n",
       "      <td>EFDD</td>\n",
       "      <td>27</td>\n",
       "      <td>GBR</td>\n",
       "      <td>Wed Jul 04 11:05:03 +0000 2012</td>\n",
       "      <td>220473289259233285</td>\n",
       "      <td>Sun Dec 07 21:46:00 +0000 2014</td>\n",
       "      <td>541710240014942209</td>\n",
       "      <td>en</td>\n",
       "      <td>Euro Parliament votes overwhelmingly to reject...</td>\n",
       "    </tr>\n",
       "    <tr>\n",
       "      <td>1</td>\n",
       "      <td>17675072</td>\n",
       "      <td>MartinSchulz</td>\n",
       "      <td>1911</td>\n",
       "      <td>Martin SCHULZ</td>\n",
       "      <td>1</td>\n",
       "      <td>S&amp;D</td>\n",
       "      <td>10</td>\n",
       "      <td>DEU</td>\n",
       "      <td>1668992125</td>\n",
       "      <td>NathanGillMEP</td>\n",
       "      <td>124965</td>\n",
       "      <td>Nathan GILL</td>\n",
       "      <td>6</td>\n",
       "      <td>EFDD</td>\n",
       "      <td>27</td>\n",
       "      <td>GBR</td>\n",
       "      <td>Fri Jul 05 08:00:23 +0000 2013</td>\n",
       "      <td>353060776707235841</td>\n",
       "      <td>Thu Jun 18 08:52:51 +0000 2015</td>\n",
       "      <td>611456527409524736</td>\n",
       "      <td>en</td>\n",
       "      <td>US have one currency, one Central Bank and one...</td>\n",
       "    </tr>\n",
       "    <tr>\n",
       "      <td>2</td>\n",
       "      <td>17675072</td>\n",
       "      <td>MartinSchulz</td>\n",
       "      <td>1911</td>\n",
       "      <td>Martin SCHULZ</td>\n",
       "      <td>1</td>\n",
       "      <td>S&amp;D</td>\n",
       "      <td>10</td>\n",
       "      <td>DEU</td>\n",
       "      <td>21648649</td>\n",
       "      <td>maritaulvskog</td>\n",
       "      <td>96672</td>\n",
       "      <td>Marita ULVSKOG</td>\n",
       "      <td>1</td>\n",
       "      <td>S&amp;D</td>\n",
       "      <td>26</td>\n",
       "      <td>SWE</td>\n",
       "      <td>Sat May 17 12:47:17 +0000 2014</td>\n",
       "      <td>467647542378123264</td>\n",
       "      <td>Wed Sep 16 09:15:06 +0000 2015</td>\n",
       "      <td>644077036022165504</td>\n",
       "      <td>en</td>\n",
       "      <td>More jobs for young people is my top priority ...</td>\n",
       "    </tr>\n",
       "    <tr>\n",
       "      <td>3</td>\n",
       "      <td>744743599</td>\n",
       "      <td>Tim_Aker</td>\n",
       "      <td>99650</td>\n",
       "      <td>Tim AKER</td>\n",
       "      <td>6</td>\n",
       "      <td>EFDD</td>\n",
       "      <td>27</td>\n",
       "      <td>GBR</td>\n",
       "      <td>121171051</td>\n",
       "      <td>MargotLJParker</td>\n",
       "      <td>124945</td>\n",
       "      <td>Margot PARKER</td>\n",
       "      <td>6</td>\n",
       "      <td>EFDD</td>\n",
       "      <td>27</td>\n",
       "      <td>GBR</td>\n",
       "      <td>Wed May 28 16:47:44 +0000 2014</td>\n",
       "      <td>471694322472353793</td>\n",
       "      <td>Thu Dec 04 22:21:10 +0000 2014</td>\n",
       "      <td>540631925145493504</td>\n",
       "      <td>en</td>\n",
       "      <td>Vote #Labour, get Tory. Vote Tory, get Labour....</td>\n",
       "    </tr>\n",
       "    <tr>\n",
       "      <td>4</td>\n",
       "      <td>744743599</td>\n",
       "      <td>Tim_Aker</td>\n",
       "      <td>99650</td>\n",
       "      <td>Tim AKER</td>\n",
       "      <td>6</td>\n",
       "      <td>EFDD</td>\n",
       "      <td>27</td>\n",
       "      <td>GBR</td>\n",
       "      <td>19017675</td>\n",
       "      <td>Nigel_Farage</td>\n",
       "      <td>4525</td>\n",
       "      <td>Nigel FARAGE</td>\n",
       "      <td>6</td>\n",
       "      <td>EFDD</td>\n",
       "      <td>27</td>\n",
       "      <td>GBR</td>\n",
       "      <td>Wed May 28 16:47:44 +0000 2014</td>\n",
       "      <td>471694322472353793</td>\n",
       "      <td>Sun Mar 29 18:53:32 +0000 2015</td>\n",
       "      <td>582254277122473984</td>\n",
       "      <td>en</td>\n",
       "      <td>Vote #Labour, get Tory. Vote Tory, get Labour....</td>\n",
       "    </tr>\n",
       "    <tr>\n",
       "      <td>...</td>\n",
       "      <td>...</td>\n",
       "      <td>...</td>\n",
       "      <td>...</td>\n",
       "      <td>...</td>\n",
       "      <td>...</td>\n",
       "      <td>...</td>\n",
       "      <td>...</td>\n",
       "      <td>...</td>\n",
       "      <td>...</td>\n",
       "      <td>...</td>\n",
       "      <td>...</td>\n",
       "      <td>...</td>\n",
       "      <td>...</td>\n",
       "      <td>...</td>\n",
       "      <td>...</td>\n",
       "      <td>...</td>\n",
       "      <td>...</td>\n",
       "      <td>...</td>\n",
       "      <td>...</td>\n",
       "      <td>...</td>\n",
       "      <td>...</td>\n",
       "      <td>...</td>\n",
       "    </tr>\n",
       "    <tr>\n",
       "      <td>12903</td>\n",
       "      <td>1485429175</td>\n",
       "      <td>JSaryuszWolski</td>\n",
       "      <td>28297</td>\n",
       "      <td>Jacek SARYUSZ-WOLSKI</td>\n",
       "      <td>4</td>\n",
       "      <td>EPP</td>\n",
       "      <td>20</td>\n",
       "      <td>POL</td>\n",
       "      <td>539156512</td>\n",
       "      <td>ZdzKrasnodebski</td>\n",
       "      <td>124891</td>\n",
       "      <td>Zdzisław KRASNODĘBSKI</td>\n",
       "      <td>5</td>\n",
       "      <td>ECR</td>\n",
       "      <td>20</td>\n",
       "      <td>POL</td>\n",
       "      <td>Sun Jan 24 13:17:25 +0000 2016</td>\n",
       "      <td>691248438504210432</td>\n",
       "      <td>Mon Jan 25 08:21:14 +0000 2016</td>\n",
       "      <td>691536290198745088</td>\n",
       "      <td>en</td>\n",
       "      <td>Drastic drop in positive EU perception in Pola...</td>\n",
       "    </tr>\n",
       "    <tr>\n",
       "      <td>12904</td>\n",
       "      <td>829060856</td>\n",
       "      <td>TheresaMEP</td>\n",
       "      <td>124961</td>\n",
       "      <td>Theresa GRIFFIN</td>\n",
       "      <td>1</td>\n",
       "      <td>S&amp;D</td>\n",
       "      <td>27</td>\n",
       "      <td>GBR</td>\n",
       "      <td>1354570123</td>\n",
       "      <td>julie4nw</td>\n",
       "      <td>124963</td>\n",
       "      <td>Julie WARD</td>\n",
       "      <td>1</td>\n",
       "      <td>S&amp;D</td>\n",
       "      <td>27</td>\n",
       "      <td>GBR</td>\n",
       "      <td>Sun Jan 24 14:04:13 +0000 2016</td>\n",
       "      <td>691260217288454144</td>\n",
       "      <td>Sun Jan 24 14:54:31 +0000 2016</td>\n",
       "      <td>691272874393485314</td>\n",
       "      <td>en</td>\n",
       "      <td>I'm with @UKYP North West now in Knowsley - gr...</td>\n",
       "    </tr>\n",
       "    <tr>\n",
       "      <td>12905</td>\n",
       "      <td>829060856</td>\n",
       "      <td>TheresaMEP</td>\n",
       "      <td>124961</td>\n",
       "      <td>Theresa GRIFFIN</td>\n",
       "      <td>1</td>\n",
       "      <td>S&amp;D</td>\n",
       "      <td>27</td>\n",
       "      <td>GBR</td>\n",
       "      <td>202610289</td>\n",
       "      <td>akhanmep</td>\n",
       "      <td>124962</td>\n",
       "      <td>Afzal KHAN</td>\n",
       "      <td>1</td>\n",
       "      <td>S&amp;D</td>\n",
       "      <td>27</td>\n",
       "      <td>GBR</td>\n",
       "      <td>Sun Jan 24 14:12:29 +0000 2016</td>\n",
       "      <td>691262296396599296</td>\n",
       "      <td>Sun Jan 24 14:21:13 +0000 2016</td>\n",
       "      <td>691264493725335552</td>\n",
       "      <td>en</td>\n",
       "      <td>Listening to some fab ideas from young people ...</td>\n",
       "    </tr>\n",
       "    <tr>\n",
       "      <td>12906</td>\n",
       "      <td>829060856</td>\n",
       "      <td>TheresaMEP</td>\n",
       "      <td>124961</td>\n",
       "      <td>Theresa GRIFFIN</td>\n",
       "      <td>1</td>\n",
       "      <td>S&amp;D</td>\n",
       "      <td>27</td>\n",
       "      <td>GBR</td>\n",
       "      <td>1354570123</td>\n",
       "      <td>julie4nw</td>\n",
       "      <td>124963</td>\n",
       "      <td>Julie WARD</td>\n",
       "      <td>1</td>\n",
       "      <td>S&amp;D</td>\n",
       "      <td>27</td>\n",
       "      <td>GBR</td>\n",
       "      <td>Sun Jan 24 14:12:29 +0000 2016</td>\n",
       "      <td>691262296396599296</td>\n",
       "      <td>Sun Jan 24 14:54:26 +0000 2016</td>\n",
       "      <td>691272856739659776</td>\n",
       "      <td>en</td>\n",
       "      <td>Listening to some fab ideas from young people ...</td>\n",
       "    </tr>\n",
       "    <tr>\n",
       "      <td>12907</td>\n",
       "      <td>85794542</td>\n",
       "      <td>DanHannanMEP</td>\n",
       "      <td>4555</td>\n",
       "      <td>Daniel HANNAN</td>\n",
       "      <td>5</td>\n",
       "      <td>ECR</td>\n",
       "      <td>27</td>\n",
       "      <td>GBR</td>\n",
       "      <td>121171051</td>\n",
       "      <td>MargotLJParker</td>\n",
       "      <td>124945</td>\n",
       "      <td>Margot PARKER</td>\n",
       "      <td>6</td>\n",
       "      <td>EFDD</td>\n",
       "      <td>27</td>\n",
       "      <td>GBR</td>\n",
       "      <td>Sun Jan 24 21:19:27 +0000 2016</td>\n",
       "      <td>691369745531158528</td>\n",
       "      <td>Sun Jan 24 21:25:43 +0000 2016</td>\n",
       "      <td>691371326372745216</td>\n",
       "      <td>en</td>\n",
       "      <td>First, big banks, now big pharma. In whose int...</td>\n",
       "    </tr>\n",
       "  </tbody>\n",
       "</table>\n",
       "<p>12908 rows × 22 columns</p>\n",
       "</div>"
      ],
      "text/plain": [
       "       origUserId origUserScreenName  origMepId           origMepName  \\\n",
       "0        19017675       Nigel_Farage       4525          Nigel FARAGE   \n",
       "1        17675072       MartinSchulz       1911         Martin SCHULZ   \n",
       "2        17675072       MartinSchulz       1911         Martin SCHULZ   \n",
       "3       744743599           Tim_Aker      99650              Tim AKER   \n",
       "4       744743599           Tim_Aker      99650              Tim AKER   \n",
       "...           ...                ...        ...                   ...   \n",
       "12903  1485429175     JSaryuszWolski      28297  Jacek SARYUSZ-WOLSKI   \n",
       "12904   829060856         TheresaMEP     124961       Theresa GRIFFIN   \n",
       "12905   829060856         TheresaMEP     124961       Theresa GRIFFIN   \n",
       "12906   829060856         TheresaMEP     124961       Theresa GRIFFIN   \n",
       "12907    85794542       DanHannanMEP       4555         Daniel HANNAN   \n",
       "\n",
       "       origMepGroupId origMepGroupShort  origMepCountryId origMepCountryShort  \\\n",
       "0                   6              EFDD                27                 GBR   \n",
       "1                   1               S&D                10                 DEU   \n",
       "2                   1               S&D                10                 DEU   \n",
       "3                   6              EFDD                27                 GBR   \n",
       "4                   6              EFDD                27                 GBR   \n",
       "...               ...               ...               ...                 ...   \n",
       "12903               4               EPP                20                 POL   \n",
       "12904               1               S&D                27                 GBR   \n",
       "12905               1               S&D                27                 GBR   \n",
       "12906               1               S&D                27                 GBR   \n",
       "12907               5               ECR                27                 GBR   \n",
       "\n",
       "       retweetUserId retweetUserScreenName  retweetMepId  \\\n",
       "0          121171051        MargotLJParker        124945   \n",
       "1         1668992125         NathanGillMEP        124965   \n",
       "2           21648649         maritaulvskog         96672   \n",
       "3          121171051        MargotLJParker        124945   \n",
       "4           19017675          Nigel_Farage          4525   \n",
       "...              ...                   ...           ...   \n",
       "12903      539156512       ZdzKrasnodebski        124891   \n",
       "12904     1354570123              julie4nw        124963   \n",
       "12905      202610289              akhanmep        124962   \n",
       "12906     1354570123              julie4nw        124963   \n",
       "12907      121171051        MargotLJParker        124945   \n",
       "\n",
       "              retweetMepName  retweetMepGroupId retweetMepGroupShort  \\\n",
       "0              Margot PARKER                  6                 EFDD   \n",
       "1                Nathan GILL                  6                 EFDD   \n",
       "2             Marita ULVSKOG                  1                  S&D   \n",
       "3              Margot PARKER                  6                 EFDD   \n",
       "4               Nigel FARAGE                  6                 EFDD   \n",
       "...                      ...                ...                  ...   \n",
       "12903  Zdzisław KRASNODĘBSKI                  5                  ECR   \n",
       "12904             Julie WARD                  1                  S&D   \n",
       "12905             Afzal KHAN                  1                  S&D   \n",
       "12906             Julie WARD                  1                  S&D   \n",
       "12907          Margot PARKER                  6                 EFDD   \n",
       "\n",
       "       retweetMepCountryId retweetMepCountryShort  \\\n",
       "0                       27                    GBR   \n",
       "1                       27                    GBR   \n",
       "2                       26                    SWE   \n",
       "3                       27                    GBR   \n",
       "4                       27                    GBR   \n",
       "...                    ...                    ...   \n",
       "12903                   20                    POL   \n",
       "12904                   27                    GBR   \n",
       "12905                   27                    GBR   \n",
       "12906                   27                    GBR   \n",
       "12907                   27                    GBR   \n",
       "\n",
       "                        origCreatedAt         origTweetId  \\\n",
       "0      Wed Jul 04 11:05:03 +0000 2012  220473289259233285   \n",
       "1      Fri Jul 05 08:00:23 +0000 2013  353060776707235841   \n",
       "2      Sat May 17 12:47:17 +0000 2014  467647542378123264   \n",
       "3      Wed May 28 16:47:44 +0000 2014  471694322472353793   \n",
       "4      Wed May 28 16:47:44 +0000 2014  471694322472353793   \n",
       "...                               ...                 ...   \n",
       "12903  Sun Jan 24 13:17:25 +0000 2016  691248438504210432   \n",
       "12904  Sun Jan 24 14:04:13 +0000 2016  691260217288454144   \n",
       "12905  Sun Jan 24 14:12:29 +0000 2016  691262296396599296   \n",
       "12906  Sun Jan 24 14:12:29 +0000 2016  691262296396599296   \n",
       "12907  Sun Jan 24 21:19:27 +0000 2016  691369745531158528   \n",
       "\n",
       "                     retweetCreatedAt      retweetTweetId lang  \\\n",
       "0      Sun Dec 07 21:46:00 +0000 2014  541710240014942209   en   \n",
       "1      Thu Jun 18 08:52:51 +0000 2015  611456527409524736   en   \n",
       "2      Wed Sep 16 09:15:06 +0000 2015  644077036022165504   en   \n",
       "3      Thu Dec 04 22:21:10 +0000 2014  540631925145493504   en   \n",
       "4      Sun Mar 29 18:53:32 +0000 2015  582254277122473984   en   \n",
       "...                               ...                 ...  ...   \n",
       "12903  Mon Jan 25 08:21:14 +0000 2016  691536290198745088   en   \n",
       "12904  Sun Jan 24 14:54:31 +0000 2016  691272874393485314   en   \n",
       "12905  Sun Jan 24 14:21:13 +0000 2016  691264493725335552   en   \n",
       "12906  Sun Jan 24 14:54:26 +0000 2016  691272856739659776   en   \n",
       "12907  Sun Jan 24 21:25:43 +0000 2016  691371326372745216   en   \n",
       "\n",
       "                                               tweetText  \n",
       "0      Euro Parliament votes overwhelmingly to reject...  \n",
       "1      US have one currency, one Central Bank and one...  \n",
       "2      More jobs for young people is my top priority ...  \n",
       "3      Vote #Labour, get Tory. Vote Tory, get Labour....  \n",
       "4      Vote #Labour, get Tory. Vote Tory, get Labour....  \n",
       "...                                                  ...  \n",
       "12903  Drastic drop in positive EU perception in Pola...  \n",
       "12904  I'm with @UKYP North West now in Knowsley - gr...  \n",
       "12905  Listening to some fab ideas from young people ...  \n",
       "12906  Listening to some fab ideas from young people ...  \n",
       "12907  First, big banks, now big pharma. In whose int...  \n",
       "\n",
       "[12908 rows x 22 columns]"
      ]
     },
     "execution_count": 3,
     "metadata": {},
     "output_type": "execute_result"
    }
   ],
   "source": [
    "fullRetweets"
   ]
  },
  {
   "cell_type": "markdown",
   "metadata": {},
   "source": [
    "## Remember to do something with word clouds\n",
    "https://github.com/amueller/word_cloud"
   ]
  },
  {
   "cell_type": "code",
   "execution_count": 4,
   "metadata": {},
   "outputs": [],
   "source": [
    "import wordcloud\n",
    "import matplotlib\n",
    "import PIL"
   ]
  },
  {
   "cell_type": "code",
   "execution_count": 5,
   "metadata": {},
   "outputs": [
    {
     "name": "stderr",
     "output_type": "stream",
     "text": [
      "[nltk_data] Error loading stopwords: <urlopen error [Errno 11001]\n",
      "[nltk_data]     getaddrinfo failed>\n"
     ]
    },
    {
     "data": {
      "text/plain": [
       "False"
      ]
     },
     "execution_count": 5,
     "metadata": {},
     "output_type": "execute_result"
    }
   ],
   "source": [
    "from sklearn.feature_extraction.text import TfidfVectorizer\n",
    "from sklearn.feature_extraction.text import CountVectorizer\n",
    "from sklearn.cluster import KMeans\n",
    "from sklearn import metrics\n",
    "\n",
    "# another set of stopwords\n",
    "\n",
    "from nltk.corpus import stopwords\n",
    "import nltk\n",
    "import sklearn as sk\n",
    "nltk.download('stopwords')"
   ]
  },
  {
   "cell_type": "code",
   "execution_count": 6,
   "metadata": {},
   "outputs": [],
   "source": [
    "clean_text = fullRetweets.tweetText.drop_duplicates()"
   ]
  },
  {
   "cell_type": "code",
   "execution_count": 7,
   "metadata": {},
   "outputs": [],
   "source": [
    "corpus = list(clean_text)"
   ]
  },
  {
   "cell_type": "code",
   "execution_count": 8,
   "metadata": {},
   "outputs": [],
   "source": [
    "from sklearn.feature_extraction import text \n",
    "\n",
    "my_additional_stop_words = ['http', 'https', 'amp', 'timmermans', 'timkirkhopemep', 'etuc_ces', 'kurdish', 'europe', 'eu', 'ep', 'european', 'parliament']\n",
    "\n",
    "stop_words = text.ENGLISH_STOP_WORDS.union(my_additional_stop_words)"
   ]
  },
  {
   "cell_type": "code",
   "execution_count": 9,
   "metadata": {},
   "outputs": [
    {
     "data": {
      "text/plain": [
       "(10102, 1938)"
      ]
     },
     "execution_count": 9,
     "metadata": {},
     "output_type": "execute_result"
    }
   ],
   "source": [
    "my_stop_words = set(stopwords.words('english')) \n",
    "vectorizer = CountVectorizer(lowercase=True, min_df=10, max_df=0.6, stop_words = stop_words)\n",
    "X = vectorizer.fit_transform(corpus)\n",
    "X.shape\n",
    "# vectorizer2 = TfidfVectorizer(lowercase=True, min_df=10, max_df=0.5, stop_words='english')\n",
    "# X2 = vectorizer2.fit_transform(corpus)"
   ]
  },
  {
   "cell_type": "code",
   "execution_count": 23,
   "metadata": {},
   "outputs": [],
   "source": [
    "kmeans = KMeans(n_clusters=5).fit(X)"
   ]
  },
  {
   "cell_type": "code",
   "execution_count": 24,
   "metadata": {},
   "outputs": [],
   "source": [
    "cluster_labels = kmeans.fit_predict(X)"
   ]
  },
  {
   "cell_type": "code",
   "execution_count": 25,
   "metadata": {},
   "outputs": [
    {
     "data": {
      "text/plain": [
       "0.03383675873338323"
      ]
     },
     "execution_count": 25,
     "metadata": {},
     "output_type": "execute_result"
    }
   ],
   "source": [
    "metrics.silhouette_score(X, labels=cluster_labels)"
   ]
  },
  {
   "cell_type": "code",
   "execution_count": 27,
   "metadata": {},
   "outputs": [
    {
     "name": "stdout",
     "output_type": "stream",
     "text": [
      "Top terms per cluster:\n",
      "Cluster 0: gt russia ukraine new good policy russian countries people day deal council defence democracy vote\n",
      "Cluster 1: uk meps just labour vote today ttip support voted work great new eurolabour people good\n",
      "Cluster 2: today eppgroup people good need great meeting new ttip vote support greece europarl_en theprogressives right\n",
      "Cluster 3: ukip vote labour today party people nhs uk policy immigration just tories lab meps election\n",
      "Cluster 4: debate speech today great ttip live europarl_en digital vote good need mep plenary people epp\n"
     ]
    }
   ],
   "source": [
    "print(\"Top terms per cluster:\")\n",
    "order_centroids = kmeans.cluster_centers_.argsort()[:, ::-1]\n",
    "terms = vectorizer.get_feature_names()\n",
    "for i in range(5):\n",
    "    top_ten_words = [terms[ind] for ind in order_centroids[i, :15]]\n",
    "    print(\"Cluster {}: {}\".format(i, ' '.join(top_ten_words)))"
   ]
  },
  {
   "cell_type": "code",
   "execution_count": null,
   "metadata": {},
   "outputs": [],
   "source": [
    "Y = vectorizer.transform([\"brexit is coming\"])\n",
    "prediction = kmeans.predict(Y)\n",
    "print(prediction)"
   ]
  },
  {
   "cell_type": "code",
   "execution_count": null,
   "metadata": {},
   "outputs": [],
   "source": []
  },
  {
   "cell_type": "code",
   "execution_count": 29,
   "metadata": {},
   "outputs": [
    {
     "data": {
      "image/png": "[encoded data removed]",
      "text/plain": [
       "<Figure size 576x396 with 2 Axes>"
      ]
     },
     "metadata": {},
     "output_type": "display_data"
    },
    {
     "data": {
      "text/plain": [
       "<matplotlib.axes._subplots.AxesSubplot at 0x1c98779bd88>"
      ]
     },
     "execution_count": 29,
     "metadata": {},
     "output_type": "execute_result"
    }
   ],
   "source": [
    "from yellowbrick.cluster import InterclusterDistance\n",
    "model = KMeans(6)\n",
    "visualizer = InterclusterDistance(model)\n",
    "\n",
    "visualizer.fit(X)        # Fit the data to the visualizer\n",
    "visualizer.show()        # Finalize and render the figure"
   ]
  },
  {
   "cell_type": "code",
   "execution_count": null,
   "metadata": {},
   "outputs": [],
   "source": []
  },
  {
   "cell_type": "code",
   "execution_count": 19,
   "metadata": {},
   "outputs": [
    {
     "name": "stderr",
     "output_type": "stream",
     "text": [
      "C:\\Users\\Ion\\Anaconda3\\lib\\site-packages\\yellowbrick\\utils\\kneed.py:140: YellowbrickWarning: No 'knee' or 'elbow point' detected This could be due to bad clustering, no actual clusters being formed etc.\n",
      "  warnings.warn(warning_message, YellowbrickWarning)\n",
      "C:\\Users\\Ion\\Anaconda3\\lib\\site-packages\\yellowbrick\\cluster\\elbow.py:343: YellowbrickWarning: No 'knee' or 'elbow' point detected, pass `locate_elbow=False` to remove the warning\n",
      "  warnings.warn(warning_message, YellowbrickWarning)\n"
     ]
    },
    {
     "data": {
      "image/png": "[encoded data removed]",
      "text/plain": [
       "<Figure size 576x396 with 2 Axes>"
      ]
     },
     "metadata": {},
     "output_type": "display_data"
    },
    {
     "data": {
      "text/plain": [
       "<matplotlib.axes._subplots.AxesSubplot at 0x1c985e5aa88>"
      ]
     },
     "execution_count": 19,
     "metadata": {},
     "output_type": "execute_result"
    }
   ],
   "source": [
    "from yellowbrick.cluster import KElbowVisualizer\n",
    "\n",
    "kmeans = KMeans(random_state=0)\n",
    "visualizer = KElbowVisualizer(kmeans, k=(1,9))\n",
    "\n",
    "visualizer.fit(X)\n",
    "visualizer.show()"
   ]
  },
  {
   "cell_type": "code",
   "execution_count": 20,
   "metadata": {},
   "outputs": [
    {
     "data": {
      "image/png": "[encoded data removed]",
      "text/plain": [
       "<Figure size 1152x1152 with 8 Axes>"
      ]
     },
     "metadata": {},
     "output_type": "display_data"
    }
   ],
   "source": [
    "from yellowbrick.cluster import SilhouetteVisualizer\n",
    "\n",
    "plt.figure(figsize=(4 * 4,  2 * 8))\n",
    "\n",
    "scores = {}\n",
    "for n_clusters in range(2, 10):\n",
    "    plt.subplot(4, 2, n_clusters - 1)\n",
    "    kmeans = KMeans(n_clusters, random_state=42)\n",
    "    visualizer = SilhouetteVisualizer(kmeans, colors='yellowbrick')\n",
    "    visualizer.fit(X)\n",
    "    scores[n_clusters] = visualizer.silhouette_score_\n",
    "    plt.title(f'clusters: {n_clusters} score: {visualizer.silhouette_score_}')"
   ]
  },
  {
   "cell_type": "code",
   "execution_count": 21,
   "metadata": {},
   "outputs": [
    {
     "data": {
      "text/plain": [
       "[(5, 0.04105460912145774),\n",
       " (3, 0.0407306025072673),\n",
       " (2, 0.040383412402435016),\n",
       " (9, 0.03384342392265393),\n",
       " (4, 0.03256147739082933),\n",
       " (8, 0.03241493380509495),\n",
       " (7, 0.022816375743271066),\n",
       " (6, 0.021768229109896862)]"
      ]
     },
     "execution_count": 21,
     "metadata": {},
     "output_type": "execute_result"
    }
   ],
   "source": [
    "sorted(scores.items(), key=lambda kv: kv[1], reverse=True)"
   ]
  },
  {
   "cell_type": "code",
   "execution_count": null,
   "metadata": {},
   "outputs": [],
   "source": []
  },
  {
   "cell_type": "code",
   "execution_count": null,
   "metadata": {},
   "outputs": [],
   "source": []
  },
  {
   "cell_type": "markdown",
   "metadata": {},
   "source": [
    "## Classification"
   ]
  },
  {
   "cell_type": "code",
   "execution_count": 12,
   "metadata": {},
   "outputs": [],
   "source": [
    "from sklearn.model_selection import train_test_split\n",
    "from sklearn.feature_extraction.text import CountVectorizer, TfidfVectorizer\n",
    "from sklearn.metrics import accuracy_score, confusion_matrix\n",
    "import matplotlib.pyplot as plt\n",
    "from nltk.corpus import stopwords\n",
    "from sklearn.dummy import DummyClassifier"
   ]
  },
  {
   "cell_type": "code",
   "execution_count": 1,
   "metadata": {},
   "outputs": [],
   "source": [
    "import pandas as pd\n",
    "import matplotlib.pyplot as plt\n",
    "import numpy as np\n",
    "pd.set_option(\"display.max_columns\", 30)\n",
    "%matplotlib inline\n",
    "\n",
    "fullRetweets = pd.read_csv('FullRetweets.csv')"
   ]
  },
  {
   "cell_type": "code",
   "execution_count": 2,
   "metadata": {},
   "outputs": [
    {
     "data": {
      "text/html": [
       "<div>\n",
       "<style scoped>\n",
       "    .dataframe tbody tr th:only-of-type {\n",
       "        vertical-align: middle;\n",
       "    }\n",
       "\n",
       "    .dataframe tbody tr th {\n",
       "        vertical-align: top;\n",
       "    }\n",
       "\n",
       "    .dataframe thead th {\n",
       "        text-align: right;\n",
       "    }\n",
       "</style>\n",
       "<table border=\"1\" class=\"dataframe\">\n",
       "  <thead>\n",
       "    <tr style=\"text-align: right;\">\n",
       "      <th></th>\n",
       "      <th>origUserId</th>\n",
       "      <th>origUserScreenName</th>\n",
       "      <th>origMepId</th>\n",
       "      <th>origMepName</th>\n",
       "      <th>origMepGroupId</th>\n",
       "      <th>origMepGroupShort</th>\n",
       "      <th>origMepCountryId</th>\n",
       "      <th>origMepCountryShort</th>\n",
       "      <th>retweetUserId</th>\n",
       "      <th>retweetUserScreenName</th>\n",
       "      <th>retweetMepId</th>\n",
       "      <th>retweetMepName</th>\n",
       "      <th>retweetMepGroupId</th>\n",
       "      <th>retweetMepGroupShort</th>\n",
       "      <th>retweetMepCountryId</th>\n",
       "      <th>retweetMepCountryShort</th>\n",
       "      <th>origCreatedAt</th>\n",
       "      <th>origTweetId</th>\n",
       "      <th>retweetCreatedAt</th>\n",
       "      <th>retweetTweetId</th>\n",
       "      <th>lang</th>\n",
       "      <th>tweetText</th>\n",
       "    </tr>\n",
       "  </thead>\n",
       "  <tbody>\n",
       "    <tr>\n",
       "      <td>0</td>\n",
       "      <td>19017675</td>\n",
       "      <td>Nigel_Farage</td>\n",
       "      <td>4525</td>\n",
       "      <td>Nigel FARAGE</td>\n",
       "      <td>6</td>\n",
       "      <td>EFDD</td>\n",
       "      <td>27</td>\n",
       "      <td>GBR</td>\n",
       "      <td>121171051</td>\n",
       "      <td>MargotLJParker</td>\n",
       "      <td>124945</td>\n",
       "      <td>Margot PARKER</td>\n",
       "      <td>6</td>\n",
       "      <td>EFDD</td>\n",
       "      <td>27</td>\n",
       "      <td>GBR</td>\n",
       "      <td>Wed Jul 04 11:05:03 +0000 2012</td>\n",
       "      <td>220473289259233285</td>\n",
       "      <td>Sun Dec 07 21:46:00 +0000 2014</td>\n",
       "      <td>541710240014942209</td>\n",
       "      <td>en</td>\n",
       "      <td>Euro Parliament votes overwhelmingly to reject...</td>\n",
       "    </tr>\n",
       "    <tr>\n",
       "      <td>1</td>\n",
       "      <td>17675072</td>\n",
       "      <td>MartinSchulz</td>\n",
       "      <td>1911</td>\n",
       "      <td>Martin SCHULZ</td>\n",
       "      <td>1</td>\n",
       "      <td>S&amp;D</td>\n",
       "      <td>10</td>\n",
       "      <td>DEU</td>\n",
       "      <td>1668992125</td>\n",
       "      <td>NathanGillMEP</td>\n",
       "      <td>124965</td>\n",
       "      <td>Nathan GILL</td>\n",
       "      <td>6</td>\n",
       "      <td>EFDD</td>\n",
       "      <td>27</td>\n",
       "      <td>GBR</td>\n",
       "      <td>Fri Jul 05 08:00:23 +0000 2013</td>\n",
       "      <td>353060776707235841</td>\n",
       "      <td>Thu Jun 18 08:52:51 +0000 2015</td>\n",
       "      <td>611456527409524736</td>\n",
       "      <td>en</td>\n",
       "      <td>US have one currency, one Central Bank and one...</td>\n",
       "    </tr>\n",
       "    <tr>\n",
       "      <td>2</td>\n",
       "      <td>17675072</td>\n",
       "      <td>MartinSchulz</td>\n",
       "      <td>1911</td>\n",
       "      <td>Martin SCHULZ</td>\n",
       "      <td>1</td>\n",
       "      <td>S&amp;D</td>\n",
       "      <td>10</td>\n",
       "      <td>DEU</td>\n",
       "      <td>21648649</td>\n",
       "      <td>maritaulvskog</td>\n",
       "      <td>96672</td>\n",
       "      <td>Marita ULVSKOG</td>\n",
       "      <td>1</td>\n",
       "      <td>S&amp;D</td>\n",
       "      <td>26</td>\n",
       "      <td>SWE</td>\n",
       "      <td>Sat May 17 12:47:17 +0000 2014</td>\n",
       "      <td>467647542378123264</td>\n",
       "      <td>Wed Sep 16 09:15:06 +0000 2015</td>\n",
       "      <td>644077036022165504</td>\n",
       "      <td>en</td>\n",
       "      <td>More jobs for young people is my top priority ...</td>\n",
       "    </tr>\n",
       "    <tr>\n",
       "      <td>3</td>\n",
       "      <td>744743599</td>\n",
       "      <td>Tim_Aker</td>\n",
       "      <td>99650</td>\n",
       "      <td>Tim AKER</td>\n",
       "      <td>6</td>\n",
       "      <td>EFDD</td>\n",
       "      <td>27</td>\n",
       "      <td>GBR</td>\n",
       "      <td>121171051</td>\n",
       "      <td>MargotLJParker</td>\n",
       "      <td>124945</td>\n",
       "      <td>Margot PARKER</td>\n",
       "      <td>6</td>\n",
       "      <td>EFDD</td>\n",
       "      <td>27</td>\n",
       "      <td>GBR</td>\n",
       "      <td>Wed May 28 16:47:44 +0000 2014</td>\n",
       "      <td>471694322472353793</td>\n",
       "      <td>Thu Dec 04 22:21:10 +0000 2014</td>\n",
       "      <td>540631925145493504</td>\n",
       "      <td>en</td>\n",
       "      <td>Vote #Labour, get Tory. Vote Tory, get Labour....</td>\n",
       "    </tr>\n",
       "    <tr>\n",
       "      <td>4</td>\n",
       "      <td>744743599</td>\n",
       "      <td>Tim_Aker</td>\n",
       "      <td>99650</td>\n",
       "      <td>Tim AKER</td>\n",
       "      <td>6</td>\n",
       "      <td>EFDD</td>\n",
       "      <td>27</td>\n",
       "      <td>GBR</td>\n",
       "      <td>19017675</td>\n",
       "      <td>Nigel_Farage</td>\n",
       "      <td>4525</td>\n",
       "      <td>Nigel FARAGE</td>\n",
       "      <td>6</td>\n",
       "      <td>EFDD</td>\n",
       "      <td>27</td>\n",
       "      <td>GBR</td>\n",
       "      <td>Wed May 28 16:47:44 +0000 2014</td>\n",
       "      <td>471694322472353793</td>\n",
       "      <td>Sun Mar 29 18:53:32 +0000 2015</td>\n",
       "      <td>582254277122473984</td>\n",
       "      <td>en</td>\n",
       "      <td>Vote #Labour, get Tory. Vote Tory, get Labour....</td>\n",
       "    </tr>\n",
       "    <tr>\n",
       "      <td>...</td>\n",
       "      <td>...</td>\n",
       "      <td>...</td>\n",
       "      <td>...</td>\n",
       "      <td>...</td>\n",
       "      <td>...</td>\n",
       "      <td>...</td>\n",
       "      <td>...</td>\n",
       "      <td>...</td>\n",
       "      <td>...</td>\n",
       "      <td>...</td>\n",
       "      <td>...</td>\n",
       "      <td>...</td>\n",
       "      <td>...</td>\n",
       "      <td>...</td>\n",
       "      <td>...</td>\n",
       "      <td>...</td>\n",
       "      <td>...</td>\n",
       "      <td>...</td>\n",
       "      <td>...</td>\n",
       "      <td>...</td>\n",
       "      <td>...</td>\n",
       "      <td>...</td>\n",
       "    </tr>\n",
       "    <tr>\n",
       "      <td>12903</td>\n",
       "      <td>1485429175</td>\n",
       "      <td>JSaryuszWolski</td>\n",
       "      <td>28297</td>\n",
       "      <td>Jacek SARYUSZ-WOLSKI</td>\n",
       "      <td>4</td>\n",
       "      <td>EPP</td>\n",
       "      <td>20</td>\n",
       "      <td>POL</td>\n",
       "      <td>539156512</td>\n",
       "      <td>ZdzKrasnodebski</td>\n",
       "      <td>124891</td>\n",
       "      <td>Zdzisław KRASNODĘBSKI</td>\n",
       "      <td>5</td>\n",
       "      <td>ECR</td>\n",
       "      <td>20</td>\n",
       "      <td>POL</td>\n",
       "      <td>Sun Jan 24 13:17:25 +0000 2016</td>\n",
       "      <td>691248438504210432</td>\n",
       "      <td>Mon Jan 25 08:21:14 +0000 2016</td>\n",
       "      <td>691536290198745088</td>\n",
       "      <td>en</td>\n",
       "      <td>Drastic drop in positive EU perception in Pola...</td>\n",
       "    </tr>\n",
       "    <tr>\n",
       "      <td>12904</td>\n",
       "      <td>829060856</td>\n",
       "      <td>TheresaMEP</td>\n",
       "      <td>124961</td>\n",
       "      <td>Theresa GRIFFIN</td>\n",
       "      <td>1</td>\n",
       "      <td>S&amp;D</td>\n",
       "      <td>27</td>\n",
       "      <td>GBR</td>\n",
       "      <td>1354570123</td>\n",
       "      <td>julie4nw</td>\n",
       "      <td>124963</td>\n",
       "      <td>Julie WARD</td>\n",
       "      <td>1</td>\n",
       "      <td>S&amp;D</td>\n",
       "      <td>27</td>\n",
       "      <td>GBR</td>\n",
       "      <td>Sun Jan 24 14:04:13 +0000 2016</td>\n",
       "      <td>691260217288454144</td>\n",
       "      <td>Sun Jan 24 14:54:31 +0000 2016</td>\n",
       "      <td>691272874393485314</td>\n",
       "      <td>en</td>\n",
       "      <td>I'm with @UKYP North West now in Knowsley - gr...</td>\n",
       "    </tr>\n",
       "    <tr>\n",
       "      <td>12905</td>\n",
       "      <td>829060856</td>\n",
       "      <td>TheresaMEP</td>\n",
       "      <td>124961</td>\n",
       "      <td>Theresa GRIFFIN</td>\n",
       "      <td>1</td>\n",
       "      <td>S&amp;D</td>\n",
       "      <td>27</td>\n",
       "      <td>GBR</td>\n",
       "      <td>202610289</td>\n",
       "      <td>akhanmep</td>\n",
       "      <td>124962</td>\n",
       "      <td>Afzal KHAN</td>\n",
       "      <td>1</td>\n",
       "      <td>S&amp;D</td>\n",
       "      <td>27</td>\n",
       "      <td>GBR</td>\n",
       "      <td>Sun Jan 24 14:12:29 +0000 2016</td>\n",
       "      <td>691262296396599296</td>\n",
       "      <td>Sun Jan 24 14:21:13 +0000 2016</td>\n",
       "      <td>691264493725335552</td>\n",
       "      <td>en</td>\n",
       "      <td>Listening to some fab ideas from young people ...</td>\n",
       "    </tr>\n",
       "    <tr>\n",
       "      <td>12906</td>\n",
       "      <td>829060856</td>\n",
       "      <td>TheresaMEP</td>\n",
       "      <td>124961</td>\n",
       "      <td>Theresa GRIFFIN</td>\n",
       "      <td>1</td>\n",
       "      <td>S&amp;D</td>\n",
       "      <td>27</td>\n",
       "      <td>GBR</td>\n",
       "      <td>1354570123</td>\n",
       "      <td>julie4nw</td>\n",
       "      <td>124963</td>\n",
       "      <td>Julie WARD</td>\n",
       "      <td>1</td>\n",
       "      <td>S&amp;D</td>\n",
       "      <td>27</td>\n",
       "      <td>GBR</td>\n",
       "      <td>Sun Jan 24 14:12:29 +0000 2016</td>\n",
       "      <td>691262296396599296</td>\n",
       "      <td>Sun Jan 24 14:54:26 +0000 2016</td>\n",
       "      <td>691272856739659776</td>\n",
       "      <td>en</td>\n",
       "      <td>Listening to some fab ideas from young people ...</td>\n",
       "    </tr>\n",
       "    <tr>\n",
       "      <td>12907</td>\n",
       "      <td>85794542</td>\n",
       "      <td>DanHannanMEP</td>\n",
       "      <td>4555</td>\n",
       "      <td>Daniel HANNAN</td>\n",
       "      <td>5</td>\n",
       "      <td>ECR</td>\n",
       "      <td>27</td>\n",
       "      <td>GBR</td>\n",
       "      <td>121171051</td>\n",
       "      <td>MargotLJParker</td>\n",
       "      <td>124945</td>\n",
       "      <td>Margot PARKER</td>\n",
       "      <td>6</td>\n",
       "      <td>EFDD</td>\n",
       "      <td>27</td>\n",
       "      <td>GBR</td>\n",
       "      <td>Sun Jan 24 21:19:27 +0000 2016</td>\n",
       "      <td>691369745531158528</td>\n",
       "      <td>Sun Jan 24 21:25:43 +0000 2016</td>\n",
       "      <td>691371326372745216</td>\n",
       "      <td>en</td>\n",
       "      <td>First, big banks, now big pharma. In whose int...</td>\n",
       "    </tr>\n",
       "  </tbody>\n",
       "</table>\n",
       "<p>12908 rows × 22 columns</p>\n",
       "</div>"
      ],
      "text/plain": [
       "       origUserId origUserScreenName  origMepId           origMepName  \\\n",
       "0        19017675       Nigel_Farage       4525          Nigel FARAGE   \n",
       "1        17675072       MartinSchulz       1911         Martin SCHULZ   \n",
       "2        17675072       MartinSchulz       1911         Martin SCHULZ   \n",
       "3       744743599           Tim_Aker      99650              Tim AKER   \n",
       "4       744743599           Tim_Aker      99650              Tim AKER   \n",
       "...           ...                ...        ...                   ...   \n",
       "12903  1485429175     JSaryuszWolski      28297  Jacek SARYUSZ-WOLSKI   \n",
       "12904   829060856         TheresaMEP     124961       Theresa GRIFFIN   \n",
       "12905   829060856         TheresaMEP     124961       Theresa GRIFFIN   \n",
       "12906   829060856         TheresaMEP     124961       Theresa GRIFFIN   \n",
       "12907    85794542       DanHannanMEP       4555         Daniel HANNAN   \n",
       "\n",
       "       origMepGroupId origMepGroupShort  origMepCountryId origMepCountryShort  \\\n",
       "0                   6              EFDD                27                 GBR   \n",
       "1                   1               S&D                10                 DEU   \n",
       "2                   1               S&D                10                 DEU   \n",
       "3                   6              EFDD                27                 GBR   \n",
       "4                   6              EFDD                27                 GBR   \n",
       "...               ...               ...               ...                 ...   \n",
       "12903               4               EPP                20                 POL   \n",
       "12904               1               S&D                27                 GBR   \n",
       "12905               1               S&D                27                 GBR   \n",
       "12906               1               S&D                27                 GBR   \n",
       "12907               5               ECR                27                 GBR   \n",
       "\n",
       "       retweetUserId retweetUserScreenName  retweetMepId  \\\n",
       "0          121171051        MargotLJParker        124945   \n",
       "1         1668992125         NathanGillMEP        124965   \n",
       "2           21648649         maritaulvskog         96672   \n",
       "3          121171051        MargotLJParker        124945   \n",
       "4           19017675          Nigel_Farage          4525   \n",
       "...              ...                   ...           ...   \n",
       "12903      539156512       ZdzKrasnodebski        124891   \n",
       "12904     1354570123              julie4nw        124963   \n",
       "12905      202610289              akhanmep        124962   \n",
       "12906     1354570123              julie4nw        124963   \n",
       "12907      121171051        MargotLJParker        124945   \n",
       "\n",
       "              retweetMepName  retweetMepGroupId retweetMepGroupShort  \\\n",
       "0              Margot PARKER                  6                 EFDD   \n",
       "1                Nathan GILL                  6                 EFDD   \n",
       "2             Marita ULVSKOG                  1                  S&D   \n",
       "3              Margot PARKER                  6                 EFDD   \n",
       "4               Nigel FARAGE                  6                 EFDD   \n",
       "...                      ...                ...                  ...   \n",
       "12903  Zdzisław KRASNODĘBSKI                  5                  ECR   \n",
       "12904             Julie WARD                  1                  S&D   \n",
       "12905             Afzal KHAN                  1                  S&D   \n",
       "12906             Julie WARD                  1                  S&D   \n",
       "12907          Margot PARKER                  6                 EFDD   \n",
       "\n",
       "       retweetMepCountryId retweetMepCountryShort  \\\n",
       "0                       27                    GBR   \n",
       "1                       27                    GBR   \n",
       "2                       26                    SWE   \n",
       "3                       27                    GBR   \n",
       "4                       27                    GBR   \n",
       "...                    ...                    ...   \n",
       "12903                   20                    POL   \n",
       "12904                   27                    GBR   \n",
       "12905                   27                    GBR   \n",
       "12906                   27                    GBR   \n",
       "12907                   27                    GBR   \n",
       "\n",
       "                        origCreatedAt         origTweetId  \\\n",
       "0      Wed Jul 04 11:05:03 +0000 2012  220473289259233285   \n",
       "1      Fri Jul 05 08:00:23 +0000 2013  353060776707235841   \n",
       "2      Sat May 17 12:47:17 +0000 2014  467647542378123264   \n",
       "3      Wed May 28 16:47:44 +0000 2014  471694322472353793   \n",
       "4      Wed May 28 16:47:44 +0000 2014  471694322472353793   \n",
       "...                               ...                 ...   \n",
       "12903  Sun Jan 24 13:17:25 +0000 2016  691248438504210432   \n",
       "12904  Sun Jan 24 14:04:13 +0000 2016  691260217288454144   \n",
       "12905  Sun Jan 24 14:12:29 +0000 2016  691262296396599296   \n",
       "12906  Sun Jan 24 14:12:29 +0000 2016  691262296396599296   \n",
       "12907  Sun Jan 24 21:19:27 +0000 2016  691369745531158528   \n",
       "\n",
       "                     retweetCreatedAt      retweetTweetId lang  \\\n",
       "0      Sun Dec 07 21:46:00 +0000 2014  541710240014942209   en   \n",
       "1      Thu Jun 18 08:52:51 +0000 2015  611456527409524736   en   \n",
       "2      Wed Sep 16 09:15:06 +0000 2015  644077036022165504   en   \n",
       "3      Thu Dec 04 22:21:10 +0000 2014  540631925145493504   en   \n",
       "4      Sun Mar 29 18:53:32 +0000 2015  582254277122473984   en   \n",
       "...                               ...                 ...  ...   \n",
       "12903  Mon Jan 25 08:21:14 +0000 2016  691536290198745088   en   \n",
       "12904  Sun Jan 24 14:54:31 +0000 2016  691272874393485314   en   \n",
       "12905  Sun Jan 24 14:21:13 +0000 2016  691264493725335552   en   \n",
       "12906  Sun Jan 24 14:54:26 +0000 2016  691272856739659776   en   \n",
       "12907  Sun Jan 24 21:25:43 +0000 2016  691371326372745216   en   \n",
       "\n",
       "                                               tweetText  \n",
       "0      Euro Parliament votes overwhelmingly to reject...  \n",
       "1      US have one currency, one Central Bank and one...  \n",
       "2      More jobs for young people is my top priority ...  \n",
       "3      Vote #Labour, get Tory. Vote Tory, get Labour....  \n",
       "4      Vote #Labour, get Tory. Vote Tory, get Labour....  \n",
       "...                                                  ...  \n",
       "12903  Drastic drop in positive EU perception in Pola...  \n",
       "12904  I'm with @UKYP North West now in Knowsley - gr...  \n",
       "12905  Listening to some fab ideas from young people ...  \n",
       "12906  Listening to some fab ideas from young people ...  \n",
       "12907  First, big banks, now big pharma. In whose int...  \n",
       "\n",
       "[12908 rows x 22 columns]"
      ]
     },
     "execution_count": 2,
     "metadata": {},
     "output_type": "execute_result"
    }
   ],
   "source": [
    "fullRetweets"
   ]
  },
  {
   "cell_type": "code",
   "execution_count": 3,
   "metadata": {},
   "outputs": [],
   "source": [
    "classif_tweets = fullRetweets[['tweetText', 'origMepGroupShort']]"
   ]
  },
  {
   "cell_type": "code",
   "execution_count": 5,
   "metadata": {},
   "outputs": [],
   "source": [
    "classif_tweets = classif_tweets.drop_duplicates()"
   ]
  },
  {
   "cell_type": "code",
   "execution_count": 6,
   "metadata": {},
   "outputs": [
    {
     "data": {
      "text/html": [
       "<div>\n",
       "<style scoped>\n",
       "    .dataframe tbody tr th:only-of-type {\n",
       "        vertical-align: middle;\n",
       "    }\n",
       "\n",
       "    .dataframe tbody tr th {\n",
       "        vertical-align: top;\n",
       "    }\n",
       "\n",
       "    .dataframe thead th {\n",
       "        text-align: right;\n",
       "    }\n",
       "</style>\n",
       "<table border=\"1\" class=\"dataframe\">\n",
       "  <thead>\n",
       "    <tr style=\"text-align: right;\">\n",
       "      <th></th>\n",
       "      <th>tweetText</th>\n",
       "      <th>origMepGroupShort</th>\n",
       "    </tr>\n",
       "  </thead>\n",
       "  <tbody>\n",
       "    <tr>\n",
       "      <td>0</td>\n",
       "      <td>Euro Parliament votes overwhelmingly to reject...</td>\n",
       "      <td>EFDD</td>\n",
       "    </tr>\n",
       "    <tr>\n",
       "      <td>1</td>\n",
       "      <td>US have one currency, one Central Bank and one...</td>\n",
       "      <td>S&amp;D</td>\n",
       "    </tr>\n",
       "    <tr>\n",
       "      <td>2</td>\n",
       "      <td>More jobs for young people is my top priority ...</td>\n",
       "      <td>S&amp;D</td>\n",
       "    </tr>\n",
       "    <tr>\n",
       "      <td>3</td>\n",
       "      <td>Vote #Labour, get Tory. Vote Tory, get Labour....</td>\n",
       "      <td>EFDD</td>\n",
       "    </tr>\n",
       "    <tr>\n",
       "      <td>5</td>\n",
       "      <td>Answering my question in ECR Group J-C Juncker...</td>\n",
       "      <td>ECR</td>\n",
       "    </tr>\n",
       "    <tr>\n",
       "      <td>...</td>\n",
       "      <td>...</td>\n",
       "      <td>...</td>\n",
       "    </tr>\n",
       "    <tr>\n",
       "      <td>12901</td>\n",
       "      <td>Time to lock EU leaders in a room to sort #ref...</td>\n",
       "      <td>ALDE</td>\n",
       "    </tr>\n",
       "    <tr>\n",
       "      <td>12903</td>\n",
       "      <td>Drastic drop in positive EU perception in Pola...</td>\n",
       "      <td>EPP</td>\n",
       "    </tr>\n",
       "    <tr>\n",
       "      <td>12904</td>\n",
       "      <td>I'm with @UKYP North West now in Knowsley - gr...</td>\n",
       "      <td>S&amp;D</td>\n",
       "    </tr>\n",
       "    <tr>\n",
       "      <td>12905</td>\n",
       "      <td>Listening to some fab ideas from young people ...</td>\n",
       "      <td>S&amp;D</td>\n",
       "    </tr>\n",
       "    <tr>\n",
       "      <td>12907</td>\n",
       "      <td>First, big banks, now big pharma. In whose int...</td>\n",
       "      <td>ECR</td>\n",
       "    </tr>\n",
       "  </tbody>\n",
       "</table>\n",
       "<p>10102 rows × 2 columns</p>\n",
       "</div>"
      ],
      "text/plain": [
       "                                               tweetText origMepGroupShort\n",
       "0      Euro Parliament votes overwhelmingly to reject...              EFDD\n",
       "1      US have one currency, one Central Bank and one...               S&D\n",
       "2      More jobs for young people is my top priority ...               S&D\n",
       "3      Vote #Labour, get Tory. Vote Tory, get Labour....              EFDD\n",
       "5      Answering my question in ECR Group J-C Juncker...               ECR\n",
       "...                                                  ...               ...\n",
       "12901  Time to lock EU leaders in a room to sort #ref...              ALDE\n",
       "12903  Drastic drop in positive EU perception in Pola...               EPP\n",
       "12904  I'm with @UKYP North West now in Knowsley - gr...               S&D\n",
       "12905  Listening to some fab ideas from young people ...               S&D\n",
       "12907  First, big banks, now big pharma. In whose int...               ECR\n",
       "\n",
       "[10102 rows x 2 columns]"
      ]
     },
     "execution_count": 6,
     "metadata": {},
     "output_type": "execute_result"
    }
   ],
   "source": [
    "classif_tweets"
   ]
  },
  {
   "cell_type": "markdown",
   "metadata": {},
   "source": [
    "Let's first investigate the balance of different tweets between the different political parties."
   ]
  },
  {
   "cell_type": "code",
   "execution_count": 10,
   "metadata": {},
   "outputs": [
    {
     "data": {
      "image/png": "[encoded data removed]",
      "text/plain": [
       "<Figure size 432x288 with 1 Axes>"
      ]
     },
     "metadata": {
      "needs_background": "light"
     },
     "output_type": "display_data"
    }
   ],
   "source": [
    "classif_tweets.origMepGroupShort.value_counts().plot(kind='barh')\n",
    "plt.show()"
   ]
  },
  {
   "cell_type": "markdown",
   "metadata": {},
   "source": [
    "* We notice that the data are quite unbalanced, might have to think what we should do about that\n",
    "* Let's create a ```dummy classifier``` who's score will be our threshold"
   ]
  },
  {
   "cell_type": "code",
   "execution_count": 14,
   "metadata": {},
   "outputs": [
    {
     "data": {
      "text/plain": [
       "array(['EFDD', 'EFDD', 'EFDD', ..., 'EFDD', 'EFDD', 'EFDD'], dtype='<U4')"
      ]
     },
     "execution_count": 14,
     "metadata": {},
     "output_type": "execute_result"
    }
   ],
   "source": [
    "X = classif_tweets.tweetText\n",
    "y = classif_tweets.origMepGroupShort\n",
    "dummy_clf = DummyClassifier(strategy=\"most_frequent\")\n",
    "dummy_clf.fit(X, y)\n",
    "dummy_clf.predict(X)"
   ]
  },
  {
   "cell_type": "code",
   "execution_count": 15,
   "metadata": {},
   "outputs": [
    {
     "data": {
      "text/plain": [
       "0.23935854286279945"
      ]
     },
     "execution_count": 15,
     "metadata": {},
     "output_type": "execute_result"
    }
   ],
   "source": [
    "dummy_clf.score(X, y)"
   ]
  },
  {
   "cell_type": "markdown",
   "metadata": {},
   "source": [
    "We have to create a **bag of words** is which we will do the classification"
   ]
  },
  {
   "cell_type": "code",
   "execution_count": 22,
   "metadata": {},
   "outputs": [],
   "source": [
    "my_tags = list(y)"
   ]
  },
  {
   "cell_type": "code",
   "execution_count": 23,
   "metadata": {},
   "outputs": [],
   "source": [
    "X_train, X_test, y_train, y_test = train_test_split(X, y, test_size=0.3, random_state = 42)"
   ]
  },
  {
   "cell_type": "code",
   "execution_count": 24,
   "metadata": {},
   "outputs": [
    {
     "name": "stdout",
     "output_type": "stream",
     "text": [
      "accuracy 0.49620587264929067\n"
     ]
    },
    {
     "ename": "ValueError",
     "evalue": "Number of classes, 7, does not match size of target_names, 10102. Try specifying the labels parameter",
     "output_type": "error",
     "traceback": [
      "\u001b[1;31m---------------------------------------------------------------------------\u001b[0m",
      "\u001b[1;31mValueError\u001b[0m                                Traceback (most recent call last)",
      "\u001b[1;32m<ipython-input-24-3b1f420eeeba>\u001b[0m in \u001b[0;36m<module>\u001b[1;34m\u001b[0m\n\u001b[0;32m     13\u001b[0m \u001b[1;33m\u001b[0m\u001b[0m\n\u001b[0;32m     14\u001b[0m \u001b[0mprint\u001b[0m\u001b[1;33m(\u001b[0m\u001b[1;34m'accuracy %s'\u001b[0m \u001b[1;33m%\u001b[0m \u001b[0maccuracy_score\u001b[0m\u001b[1;33m(\u001b[0m\u001b[0my_pred\u001b[0m\u001b[1;33m,\u001b[0m \u001b[0my_test\u001b[0m\u001b[1;33m)\u001b[0m\u001b[1;33m)\u001b[0m\u001b[1;33m\u001b[0m\u001b[1;33m\u001b[0m\u001b[0m\n\u001b[1;32m---> 15\u001b[1;33m \u001b[0mprint\u001b[0m\u001b[1;33m(\u001b[0m\u001b[0mclassification_report\u001b[0m\u001b[1;33m(\u001b[0m\u001b[0my_test\u001b[0m\u001b[1;33m,\u001b[0m \u001b[0my_pred\u001b[0m\u001b[1;33m,\u001b[0m\u001b[0mtarget_names\u001b[0m\u001b[1;33m=\u001b[0m\u001b[0mmy_tags\u001b[0m\u001b[1;33m)\u001b[0m\u001b[1;33m)\u001b[0m\u001b[1;33m\u001b[0m\u001b[1;33m\u001b[0m\u001b[0m\n\u001b[0m",
      "\u001b[1;32m~\\Anaconda3\\lib\\site-packages\\sklearn\\metrics\\classification.py\u001b[0m in \u001b[0;36mclassification_report\u001b[1;34m(y_true, y_pred, labels, target_names, sample_weight, digits, output_dict)\u001b[0m\n\u001b[0;32m   1874\u001b[0m                 \u001b[1;34m\"Number of classes, {0}, does not match size of \"\u001b[0m\u001b[1;33m\u001b[0m\u001b[1;33m\u001b[0m\u001b[0m\n\u001b[0;32m   1875\u001b[0m                 \u001b[1;34m\"target_names, {1}. Try specifying the labels \"\u001b[0m\u001b[1;33m\u001b[0m\u001b[1;33m\u001b[0m\u001b[0m\n\u001b[1;32m-> 1876\u001b[1;33m                 \u001b[1;34m\"parameter\"\u001b[0m\u001b[1;33m.\u001b[0m\u001b[0mformat\u001b[0m\u001b[1;33m(\u001b[0m\u001b[0mlen\u001b[0m\u001b[1;33m(\u001b[0m\u001b[0mlabels\u001b[0m\u001b[1;33m)\u001b[0m\u001b[1;33m,\u001b[0m \u001b[0mlen\u001b[0m\u001b[1;33m(\u001b[0m\u001b[0mtarget_names\u001b[0m\u001b[1;33m)\u001b[0m\u001b[1;33m)\u001b[0m\u001b[1;33m\u001b[0m\u001b[1;33m\u001b[0m\u001b[0m\n\u001b[0m\u001b[0;32m   1877\u001b[0m             )\n\u001b[0;32m   1878\u001b[0m     \u001b[1;32mif\u001b[0m \u001b[0mtarget_names\u001b[0m \u001b[1;32mis\u001b[0m \u001b[1;32mNone\u001b[0m\u001b[1;33m:\u001b[0m\u001b[1;33m\u001b[0m\u001b[1;33m\u001b[0m\u001b[0m\n",
      "\u001b[1;31mValueError\u001b[0m: Number of classes, 7, does not match size of target_names, 10102. Try specifying the labels parameter"
     ]
    }
   ],
   "source": [
    "from sklearn.naive_bayes import MultinomialNB\n",
    "from sklearn.pipeline import Pipeline\n",
    "from sklearn.feature_extraction.text import TfidfTransformer\n",
    "\n",
    "nb = Pipeline([('vect', CountVectorizer()),\n",
    "               ('tfidf', TfidfTransformer()),\n",
    "               ('clf', MultinomialNB()),\n",
    "              ])\n",
    "nb.fit(X_train, y_train)\n",
    "\n",
    "from sklearn.metrics import classification_report\n",
    "y_pred = nb.predict(X_test)\n",
    "\n",
    "print('accuracy %s' % accuracy_score(y_pred, y_test))\n",
    "print(classification_report(y_test, y_pred,target_names=my_tags))"
   ]
  },
  {
   "cell_type": "code",
   "execution_count": null,
   "metadata": {},
   "outputs": [],
   "source": []
  },
  {
   "cell_type": "code",
   "execution_count": null,
   "metadata": {},
   "outputs": [],
   "source": []
  },
  {
   "cell_type": "code",
   "execution_count": null,
   "metadata": {},
   "outputs": [],
   "source": []
  },
  {
   "cell_type": "code",
   "execution_count": null,
   "metadata": {},
   "outputs": [],
   "source": []
  },
  {
   "cell_type": "code",
   "execution_count": null,
   "metadata": {},
   "outputs": [],
   "source": []
  }
 ],
 "metadata": {
  "kernelspec": {
   "display_name": "Python 3",
   "language": "python",
   "name": "python3"
  },
  "language_info": {
   "codemirror_mode": {
    "name": "ipython",
    "version": 3
   },
   "file_extension": ".py",
   "mimetype": "text/x-python",
   "name": "python",
   "nbconvert_exporter": "python",
   "pygments_lexer": "ipython3",
   "version": "3.7.4"
  }
 },
 "nbformat": 4,
 "nbformat_minor": 2
}
